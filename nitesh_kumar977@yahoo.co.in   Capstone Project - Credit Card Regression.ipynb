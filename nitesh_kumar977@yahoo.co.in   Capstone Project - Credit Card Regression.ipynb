{
 "cells": [
  {
   "cell_type": "code",
   "execution_count": 2,
   "metadata": {},
   "outputs": [
    {
     "name": "stdout",
     "output_type": "stream",
     "text": [
      "Collecting pandas_profilingNote: you may need to restart the kernel to use updated packages.\n",
      "\n",
      "  Obtaining dependency information for pandas_profiling from https://files.pythonhosted.org/packages/57/b7/e13216265ae3135ecda13e966aad9ce04b7e7b3e2d87d056b032fc9f457c/pandas_profiling-3.2.0-py2.py3-none-any.whl.metadata\n",
      "  Downloading pandas_profiling-3.2.0-py2.py3-none-any.whl.metadata (21 kB)\n",
      "Collecting joblib~=1.1.0 (from pandas_profiling)\n",
      "  Obtaining dependency information for joblib~=1.1.0 from https://files.pythonhosted.org/packages/7c/91/d3ba0401e62d7e42816bc7d97b82d19c95c164b3e149a87c0a1c026a735e/joblib-1.1.1-py2.py3-none-any.whl.metadata\n",
      "  Downloading joblib-1.1.1-py2.py3-none-any.whl.metadata (5.2 kB)\n",
      "Requirement already satisfied: scipy>=1.4.1 in c:\\users\\admin\\anaconda3\\lib\\site-packages (from pandas_profiling) (1.10.1)\n",
      "Requirement already satisfied: pandas!=1.0.0,!=1.0.1,!=1.0.2,!=1.1.0,>=0.25.3 in c:\\users\\admin\\anaconda3\\lib\\site-packages (from pandas_profiling) (1.5.3)\n",
      "Requirement already satisfied: matplotlib>=3.2.0 in c:\\users\\admin\\anaconda3\\lib\\site-packages (from pandas_profiling) (3.7.1)\n",
      "Requirement already satisfied: pydantic>=1.8.1 in c:\\users\\admin\\anaconda3\\lib\\site-packages (from pandas_profiling) (2.9.0)\n",
      "Requirement already satisfied: PyYAML>=5.0.0 in c:\\users\\admin\\anaconda3\\lib\\site-packages (from pandas_profiling) (6.0)\n",
      "Requirement already satisfied: jinja2>=2.11.1 in c:\\users\\admin\\anaconda3\\lib\\site-packages (from pandas_profiling) (3.1.2)\n",
      "Requirement already satisfied: markupsafe~=2.1.1 in c:\\users\\admin\\anaconda3\\lib\\site-packages (from pandas_profiling) (2.1.1)\n",
      "Collecting visions[type_image_path]==0.7.4 (from pandas_profiling)\n",
      "  Obtaining dependency information for visions[type_image_path]==0.7.4 from https://files.pythonhosted.org/packages/66/00/166b2beb8046f06b77a2bf2c1dafeb52eff608f7dd420c767d5f3ce36ef5/visions-0.7.4-py3-none-any.whl.metadata\n",
      "  Downloading visions-0.7.4-py3-none-any.whl.metadata (5.9 kB)\n",
      "Requirement already satisfied: numpy>=1.16.0 in c:\\users\\admin\\anaconda3\\lib\\site-packages (from pandas_profiling) (1.24.3)\n",
      "Collecting htmlmin>=0.1.12 (from pandas_profiling)\n",
      "  Downloading htmlmin-0.1.12.tar.gz (19 kB)\n",
      "  Preparing metadata (setup.py): started\n",
      "  Preparing metadata (setup.py): finished with status 'done'\n",
      "Collecting missingno>=0.4.2 (from pandas_profiling)\n",
      "  Obtaining dependency information for missingno>=0.4.2 from https://files.pythonhosted.org/packages/87/22/cd5cf999af21c2f97486622c551ac3d07361ced8125121e907f588ff5f24/missingno-0.5.2-py3-none-any.whl.metadata\n",
      "  Downloading missingno-0.5.2-py3-none-any.whl.metadata (639 bytes)\n",
      "Collecting phik>=0.11.1 (from pandas_profiling)\n",
      "  Obtaining dependency information for phik>=0.11.1 from https://files.pythonhosted.org/packages/95/e3/250ce99ed761389028543fcb876176ba619f6bf387d6cce3bab736bd92cc/phik-0.12.4-cp311-cp311-win_amd64.whl.metadata\n",
      "  Downloading phik-0.12.4-cp311-cp311-win_amd64.whl.metadata (5.6 kB)\n",
      "Collecting tangled-up-in-unicode==0.2.0 (from pandas_profiling)\n",
      "  Obtaining dependency information for tangled-up-in-unicode==0.2.0 from https://files.pythonhosted.org/packages/dd/60/3651960b74aead282ec1ad819e70bdccf3ee73322d13d4339a6e3f5b7ed3/tangled_up_in_unicode-0.2.0-py3-none-any.whl.metadata\n",
      "  Downloading tangled_up_in_unicode-0.2.0-py3-none-any.whl.metadata (4.8 kB)\n",
      "Requirement already satisfied: requests>=2.24.0 in c:\\users\\admin\\anaconda3\\lib\\site-packages (from pandas_profiling) (2.31.0)\n",
      "Requirement already satisfied: tqdm>=4.48.2 in c:\\users\\admin\\anaconda3\\lib\\site-packages (from pandas_profiling) (4.65.0)\n",
      "Requirement already satisfied: seaborn>=0.10.1 in c:\\users\\admin\\anaconda3\\lib\\site-packages (from pandas_profiling) (0.12.2)\n",
      "Collecting multimethod>=1.4 (from pandas_profiling)\n",
      "  Obtaining dependency information for multimethod>=1.4 from https://files.pythonhosted.org/packages/af/98/cff14d53a2f2f67d7fe8a4e235a383ee71aba6a1da12aeea24b325d0c72a/multimethod-1.12-py3-none-any.whl.metadata\n",
      "  Downloading multimethod-1.12-py3-none-any.whl.metadata (9.6 kB)\n",
      "Requirement already satisfied: attrs>=19.3.0 in c:\\users\\admin\\anaconda3\\lib\\site-packages (from visions[type_image_path]==0.7.4->pandas_profiling) (24.2.0)\n",
      "Requirement already satisfied: networkx>=2.4 in c:\\users\\admin\\anaconda3\\lib\\site-packages (from visions[type_image_path]==0.7.4->pandas_profiling) (3.1)\n",
      "Collecting imagehash (from visions[type_image_path]==0.7.4->pandas_profiling)\n",
      "  Obtaining dependency information for imagehash from https://files.pythonhosted.org/packages/2d/b4/19a746a986c6e38595fa5947c028b1b8e287773dcad766e648897ad2a4cf/ImageHash-4.3.1-py2.py3-none-any.whl.metadata\n",
      "  Downloading ImageHash-4.3.1-py2.py3-none-any.whl.metadata (8.0 kB)\n",
      "Requirement already satisfied: Pillow in c:\\users\\admin\\anaconda3\\lib\\site-packages (from visions[type_image_path]==0.7.4->pandas_profiling) (9.4.0)\n",
      "Requirement already satisfied: contourpy>=1.0.1 in c:\\users\\admin\\anaconda3\\lib\\site-packages (from matplotlib>=3.2.0->pandas_profiling) (1.0.5)\n",
      "Requirement already satisfied: cycler>=0.10 in c:\\users\\admin\\anaconda3\\lib\\site-packages (from matplotlib>=3.2.0->pandas_profiling) (0.11.0)\n",
      "Requirement already satisfied: fonttools>=4.22.0 in c:\\users\\admin\\anaconda3\\lib\\site-packages (from matplotlib>=3.2.0->pandas_profiling) (4.25.0)\n",
      "Requirement already satisfied: kiwisolver>=1.0.1 in c:\\users\\admin\\anaconda3\\lib\\site-packages (from matplotlib>=3.2.0->pandas_profiling) (1.4.4)\n",
      "Requirement already satisfied: packaging>=20.0 in c:\\users\\admin\\anaconda3\\lib\\site-packages (from matplotlib>=3.2.0->pandas_profiling) (23.0)\n",
      "Requirement already satisfied: pyparsing>=2.3.1 in c:\\users\\admin\\anaconda3\\lib\\site-packages (from matplotlib>=3.2.0->pandas_profiling) (3.0.9)\n",
      "Requirement already satisfied: python-dateutil>=2.7 in c:\\users\\admin\\anaconda3\\lib\\site-packages (from matplotlib>=3.2.0->pandas_profiling) (2.8.2)\n",
      "Requirement already satisfied: pytz>=2020.1 in c:\\users\\admin\\anaconda3\\lib\\site-packages (from pandas!=1.0.0,!=1.0.1,!=1.0.2,!=1.1.0,>=0.25.3->pandas_profiling) (2022.7)\n",
      "Requirement already satisfied: annotated-types>=0.4.0 in c:\\users\\admin\\anaconda3\\lib\\site-packages (from pydantic>=1.8.1->pandas_profiling) (0.7.0)\n",
      "Requirement already satisfied: pydantic-core==2.23.2 in c:\\users\\admin\\anaconda3\\lib\\site-packages (from pydantic>=1.8.1->pandas_profiling) (2.23.2)\n",
      "Requirement already satisfied: typing-extensions>=4.6.1 in c:\\users\\admin\\anaconda3\\lib\\site-packages (from pydantic>=1.8.1->pandas_profiling) (4.12.2)\n",
      "Requirement already satisfied: tzdata in c:\\users\\admin\\anaconda3\\lib\\site-packages (from pydantic>=1.8.1->pandas_profiling) (2024.1)\n",
      "Requirement already satisfied: charset-normalizer<4,>=2 in c:\\users\\admin\\anaconda3\\lib\\site-packages (from requests>=2.24.0->pandas_profiling) (2.0.4)\n",
      "Requirement already satisfied: idna<4,>=2.5 in c:\\users\\admin\\anaconda3\\lib\\site-packages (from requests>=2.24.0->pandas_profiling) (3.4)\n",
      "Requirement already satisfied: urllib3<3,>=1.21.1 in c:\\users\\admin\\anaconda3\\lib\\site-packages (from requests>=2.24.0->pandas_profiling) (1.26.6)\n",
      "Requirement already satisfied: certifi>=2017.4.17 in c:\\users\\admin\\anaconda3\\lib\\site-packages (from requests>=2.24.0->pandas_profiling) (2023.7.22)\n",
      "Requirement already satisfied: colorama in c:\\users\\admin\\anaconda3\\lib\\site-packages (from tqdm>=4.48.2->pandas_profiling) (0.4.6)\n",
      "Requirement already satisfied: six>=1.5 in c:\\users\\admin\\anaconda3\\lib\\site-packages (from python-dateutil>=2.7->matplotlib>=3.2.0->pandas_profiling) (1.16.0)\n",
      "Requirement already satisfied: PyWavelets in c:\\users\\admin\\anaconda3\\lib\\site-packages (from imagehash->visions[type_image_path]==0.7.4->pandas_profiling) (1.4.1)\n",
      "Downloading pandas_profiling-3.2.0-py2.py3-none-any.whl (262 kB)\n",
      "   ---------------------------------------- 0.0/262.6 kB ? eta -:--:--\n",
      "   ---------------------------------------- 262.6/262.6 kB 8.1 MB/s eta 0:00:00\n",
      "Downloading tangled_up_in_unicode-0.2.0-py3-none-any.whl (4.7 MB)\n",
      "   ---------------------------------------- 0.0/4.7 MB ? eta -:--:--\n",
      "   ----------- ---------------------------- 1.4/4.7 MB 43.2 MB/s eta 0:00:01\n",
      "   ----------------------------- ---------- 3.5/4.7 MB 44.6 MB/s eta 0:00:01\n",
      "   ---------------------------------------  4.7/4.7 MB 42.9 MB/s eta 0:00:01\n",
      "   ---------------------------------------- 4.7/4.7 MB 30.1 MB/s eta 0:00:00\n",
      "Downloading joblib-1.1.1-py2.py3-none-any.whl (309 kB)\n",
      "   ---------------------------------------- 0.0/309.8 kB ? eta -:--:--\n",
      "   --------------------------------------- 309.8/309.8 kB 18.7 MB/s eta 0:00:00\n",
      "Downloading missingno-0.5.2-py3-none-any.whl (8.7 kB)\n",
      "Downloading multimethod-1.12-py3-none-any.whl (10 kB)\n",
      "Downloading phik-0.12.4-cp311-cp311-win_amd64.whl (667 kB)\n",
      "   ---------------------------------------- 0.0/667.1 kB ? eta -:--:--\n",
      "   --------------------------------------- 667.1/667.1 kB 41.1 MB/s eta 0:00:00\n",
      "Downloading ImageHash-4.3.1-py2.py3-none-any.whl (296 kB)\n",
      "   ---------------------------------------- 0.0/296.5 kB ? eta -:--:--\n",
      "   --------------------------------------- 296.5/296.5 kB 17.9 MB/s eta 0:00:00\n",
      "Downloading visions-0.7.4-py3-none-any.whl (102 kB)\n",
      "   ---------------------------------------- 0.0/102.4 kB ? eta -:--:--\n",
      "   ---------------------------------------- 102.4/102.4 kB 5.8 MB/s eta 0:00:00\n",
      "Building wheels for collected packages: htmlmin\n",
      "  Building wheel for htmlmin (setup.py): started\n",
      "  Building wheel for htmlmin (setup.py): finished with status 'done'\n",
      "  Created wheel for htmlmin: filename=htmlmin-0.1.12-py3-none-any.whl size=27092 sha256=e86895c367fb7660681782b672450328a2da83f046ddea03123ed46b37f5193b\n",
      "  Stored in directory: c:\\users\\admin\\appdata\\local\\pip\\cache\\wheels\\8d\\55\\1a\\19cd535375ed1ede0c996405ebffe34b196d78e2d9545723a2\n",
      "Successfully built htmlmin\n",
      "Installing collected packages: htmlmin, tangled-up-in-unicode, multimethod, joblib, imagehash, visions, phik, missingno, pandas_profiling\n",
      "  Attempting uninstall: joblib\n",
      "    Found existing installation: joblib 1.2.0\n",
      "    Uninstalling joblib-1.2.0:\n",
      "      Successfully uninstalled joblib-1.2.0\n",
      "Successfully installed htmlmin-0.1.12 imagehash-4.3.1 joblib-1.1.1 missingno-0.5.2 multimethod-1.12 pandas_profiling-3.2.0 phik-0.12.4 tangled-up-in-unicode-0.2.0 visions-0.7.4\n"
     ]
    }
   ],
   "source": [
    "pip install pandas_profiling"
   ]
  },
  {
   "cell_type": "code",
   "execution_count": 2,
   "metadata": {},
   "outputs": [],
   "source": [
    "import pandas as pd\n",
    "import numpy as np\n",
    "import sklearn as sk\n",
    "##import pandas_profiling\n",
    "import seaborn as sn"
   ]
  },
  {
   "cell_type": "code",
   "execution_count": 3,
   "metadata": {},
   "outputs": [
    {
     "name": "stdout",
     "output_type": "stream",
     "text": [
      "C:\\Users\\Admin\n"
     ]
    }
   ],
   "source": [
    "%cd"
   ]
  },
  {
   "cell_type": "code",
   "execution_count": 4,
   "metadata": {},
   "outputs": [
    {
     "name": "stdout",
     "output_type": "stream",
     "text": [
      "C:\\Users\\Admin\\capstone projects\\credit card Regression\n"
     ]
    }
   ],
   "source": [
    "%cd C:\\Users\\Admin\\capstone projects\\credit card Regression"
   ]
  },
  {
   "cell_type": "code",
   "execution_count": 5,
   "metadata": {},
   "outputs": [
    {
     "name": "stderr",
     "output_type": "stream",
     "text": [
      "C:\\Users\\Admin\\AppData\\Local\\Temp\\ipykernel_6852\\3333836706.py:1: DtypeWarning: Columns (2,19,21,49,87,88,102) have mixed types. Specify dtype option on import or set low_memory=False.\n",
      "  df_cc = pd.read_csv('CREDIT CARD USERS DATA.csv')\n"
     ]
    }
   ],
   "source": [
    "df_cc = pd.read_csv('CREDIT CARD USERS DATA.csv')"
   ]
  },
  {
   "cell_type": "code",
   "execution_count": 6,
   "metadata": {},
   "outputs": [
    {
     "data": {
      "text/plain": [
       "(5000, 132)"
      ]
     },
     "execution_count": 6,
     "metadata": {},
     "output_type": "execute_result"
    }
   ],
   "source": [
    "df_cc.shape"
   ]
  },
  {
   "cell_type": "code",
   "execution_count": 7,
   "metadata": {},
   "outputs": [
    {
     "data": {
      "text/plain": [
       "{'custid': dtype('O'),\n",
       " 'region': dtype('float64'),\n",
       " 'townsize': dtype('O'),\n",
       " 'gender': dtype('float64'),\n",
       " 'age': dtype('float64'),\n",
       " 'agecat': dtype('float64'),\n",
       " 'birthmonth': dtype('O'),\n",
       " 'ed': dtype('float64'),\n",
       " 'edcat': dtype('float64'),\n",
       " 'jobcat': dtype('float64'),\n",
       " 'union': dtype('float64'),\n",
       " 'employ': dtype('float64'),\n",
       " 'empcat': dtype('float64'),\n",
       " 'retire': dtype('float64'),\n",
       " 'income': dtype('float64'),\n",
       " 'lninc': dtype('float64'),\n",
       " 'inccat': dtype('float64'),\n",
       " 'debtinc': dtype('float64'),\n",
       " 'creddebt': dtype('float64'),\n",
       " 'lncreddebt': dtype('O'),\n",
       " 'othdebt': dtype('float64'),\n",
       " 'lnothdebt': dtype('O'),\n",
       " 'default': dtype('float64'),\n",
       " 'jobsat': dtype('float64'),\n",
       " 'marital': dtype('float64'),\n",
       " 'spoused': dtype('float64'),\n",
       " 'spousedcat': dtype('float64'),\n",
       " 'reside': dtype('float64'),\n",
       " 'pets': dtype('float64'),\n",
       " 'pets_cats': dtype('float64'),\n",
       " 'pets_dogs': dtype('float64'),\n",
       " 'pets_birds': dtype('float64'),\n",
       " 'pets_reptiles': dtype('float64'),\n",
       " 'pets_small': dtype('float64'),\n",
       " 'pets_saltfish': dtype('float64'),\n",
       " 'pets_freshfish': dtype('float64'),\n",
       " 'homeown': dtype('float64'),\n",
       " 'hometype': dtype('float64'),\n",
       " 'address': dtype('float64'),\n",
       " 'addresscat': dtype('float64'),\n",
       " 'cars': dtype('float64'),\n",
       " 'carown': dtype('float64'),\n",
       " 'cartype': dtype('float64'),\n",
       " 'carvalue': dtype('float64'),\n",
       " 'carcatvalue': dtype('float64'),\n",
       " 'carbought': dtype('float64'),\n",
       " 'carbuy': dtype('float64'),\n",
       " 'commute': dtype('float64'),\n",
       " 'commutecat': dtype('float64'),\n",
       " 'commutetime': dtype('O'),\n",
       " 'commutecar': dtype('float64'),\n",
       " 'commutemotorcycle': dtype('float64'),\n",
       " 'commutecarpool': dtype('float64'),\n",
       " 'commutebus': dtype('float64'),\n",
       " 'commuterail': dtype('float64'),\n",
       " 'commutepublic': dtype('float64'),\n",
       " 'commutebike': dtype('float64'),\n",
       " 'commutewalk': dtype('float64'),\n",
       " 'commutenonmotor': dtype('float64'),\n",
       " 'telecommute': dtype('float64'),\n",
       " 'reason': dtype('float64'),\n",
       " 'polview': dtype('float64'),\n",
       " 'polparty': dtype('float64'),\n",
       " 'polcontrib': dtype('float64'),\n",
       " 'vote': dtype('float64'),\n",
       " 'card': dtype('float64'),\n",
       " 'cardtype': dtype('float64'),\n",
       " 'cardbenefit': dtype('float64'),\n",
       " 'cardfee': dtype('float64'),\n",
       " 'cardtenure': dtype('float64'),\n",
       " 'cardtenurecat': dtype('float64'),\n",
       " 'card2': dtype('float64'),\n",
       " 'card2type': dtype('float64'),\n",
       " 'card2benefit': dtype('float64'),\n",
       " 'card2fee': dtype('float64'),\n",
       " 'card2tenure': dtype('float64'),\n",
       " 'card2tenurecat': dtype('float64'),\n",
       " 'carditems': dtype('float64'),\n",
       " 'cardspent': dtype('float64'),\n",
       " 'card2items': dtype('float64'),\n",
       " 'card2spent': dtype('float64'),\n",
       " 'active': dtype('float64'),\n",
       " 'bfast': dtype('float64'),\n",
       " 'tenure': dtype('float64'),\n",
       " 'churn': dtype('float64'),\n",
       " 'longmon': dtype('float64'),\n",
       " 'lnlongmon': dtype('float64'),\n",
       " 'longten': dtype('O'),\n",
       " 'lnlongten': dtype('O'),\n",
       " 'tollfree': dtype('float64'),\n",
       " 'tollmon': dtype('float64'),\n",
       " 'lntollmon': dtype('O'),\n",
       " 'tollten': dtype('float64'),\n",
       " 'lntollten': dtype('O'),\n",
       " 'equip': dtype('float64'),\n",
       " 'equipmon': dtype('float64'),\n",
       " 'lnequipmon': dtype('O'),\n",
       " 'equipten': dtype('float64'),\n",
       " 'lnequipten': dtype('O'),\n",
       " 'callcard': dtype('float64'),\n",
       " 'cardmon': dtype('float64'),\n",
       " 'lncardmon': dtype('O'),\n",
       " 'cardten': dtype('O'),\n",
       " 'lncardten': dtype('O'),\n",
       " 'wireless': dtype('float64'),\n",
       " 'wiremon': dtype('float64'),\n",
       " 'lnwiremon': dtype('O'),\n",
       " 'wireten': dtype('float64'),\n",
       " 'lnwireten': dtype('O'),\n",
       " 'multline': dtype('float64'),\n",
       " 'voice': dtype('float64'),\n",
       " 'pager': dtype('float64'),\n",
       " 'internet': dtype('float64'),\n",
       " 'callid': dtype('float64'),\n",
       " 'callwait': dtype('float64'),\n",
       " 'forward': dtype('float64'),\n",
       " 'confer': dtype('float64'),\n",
       " 'ebill': dtype('float64'),\n",
       " 'owntv': dtype('float64'),\n",
       " 'hourstv': dtype('float64'),\n",
       " 'ownvcr': dtype('float64'),\n",
       " 'owndvd': dtype('float64'),\n",
       " 'owncd': dtype('float64'),\n",
       " 'ownpda': dtype('float64'),\n",
       " 'ownpc': dtype('float64'),\n",
       " 'ownipod': dtype('float64'),\n",
       " 'owngame': dtype('float64'),\n",
       " 'ownfax': dtype('float64'),\n",
       " 'news': dtype('float64'),\n",
       " 'response_01': dtype('float64'),\n",
       " 'response_02': dtype('float64'),\n",
       " 'response_03': dtype('float64')}"
      ]
     },
     "execution_count": 7,
     "metadata": {},
     "output_type": "execute_result"
    }
   ],
   "source": [
    "dfcc_dict = dict(df_cc.dtypes)\n",
    "dfcc_dict"
   ]
  },
  {
   "cell_type": "markdown",
   "metadata": {},
   "source": [
    "# Data cleaning : String to float conversion"
   ]
  },
  {
   "cell_type": "code",
   "execution_count": 9,
   "metadata": {},
   "outputs": [],
   "source": [
    "for new_var in list(df_cc.columns):\n",
    "    if new_var[:2]== 'ln':\n",
    "        df_cc[new_var] = df_cc[new_var].replace('#NULL!',0)\n",
    "        df_cc[new_var] = pd.to_numeric(df_cc[new_var]).astype('float64')"
   ]
  },
  {
   "cell_type": "code",
   "execution_count": 11,
   "metadata": {},
   "outputs": [
    {
     "data": {
      "text/plain": [
       "dtype('float64')"
      ]
     },
     "execution_count": 11,
     "metadata": {},
     "output_type": "execute_result"
    }
   ],
   "source": [
    "df_cc['commutetime']=df_cc['commutetime'].replace('#NULL!','NA')\n",
    "df_cc['commutetime']=df_cc['commutetime'].replace('NA',np.NaN)\n",
    "df_cc['commutetime']=pd.to_numeric(df_cc['commutetime'].astype(float))\n",
    "df_cc['commutetime'].dtypes"
   ]
  },
  {
   "cell_type": "code",
   "execution_count": 12,
   "metadata": {},
   "outputs": [
    {
     "data": {
      "text/plain": [
       "dtype('float64')"
      ]
     },
     "execution_count": 12,
     "metadata": {},
     "output_type": "execute_result"
    }
   ],
   "source": [
    "df_cc['cardten']=df_cc['cardten'].replace('#NULL!','NA')\n",
    "df_cc['cardten']=df_cc['cardten'].replace('NA',np.NaN)\n",
    "df_cc['cardten']=pd.to_numeric(df_cc['cardten'].astype(float))\n",
    "df_cc['cardten'].dtypes"
   ]
  },
  {
   "cell_type": "code",
   "execution_count": 13,
   "metadata": {},
   "outputs": [
    {
     "data": {
      "text/plain": [
       "dtype('float64')"
      ]
     },
     "execution_count": 13,
     "metadata": {},
     "output_type": "execute_result"
    }
   ],
   "source": [
    "df_cc['longten']=df_cc['longten'].replace('#NULL!','NA')\n",
    "df_cc['longten']=df_cc['longten'].replace('NA',np.NaN)\n",
    "df_cc['longten']=pd.to_numeric(df_cc['longten'].astype(float))\n",
    "df_cc['longten'].dtypes"
   ]
  },
  {
   "cell_type": "markdown",
   "metadata": {},
   "source": [
    "# Data cleaning : Float to String conversion"
   ]
  },
  {
   "cell_type": "code",
   "execution_count": 15,
   "metadata": {},
   "outputs": [
    {
     "data": {
      "text/plain": [
       "dtype('float64')"
      ]
     },
     "execution_count": 15,
     "metadata": {},
     "output_type": "execute_result"
    }
   ],
   "source": [
    "df_cc['townsize']=df_cc['townsize'].replace('#NULL!','NA')\n",
    "df_cc['townsize']=df_cc['townsize'].replace('NA',np.NaN)\n",
    "df_cc['townsize']=pd.to_numeric(df_cc['townsize'].astype(float))\n",
    "df_cc['townsize'].dtypes"
   ]
  },
  {
   "cell_type": "markdown",
   "metadata": {},
   "source": [
    "# Missing value treatment on Numerical variables"
   ]
  },
  {
   "cell_type": "code",
   "execution_count": 16,
   "metadata": {},
   "outputs": [],
   "source": [
    "def missings_value(y):\n",
    "    y=y.fillna(y.mean())\n",
    "    return y\n",
    "df_cc_num=df_cc._get_numeric_data().apply(lambda y : missings_value(y))"
   ]
  },
  {
   "cell_type": "code",
   "execution_count": 17,
   "metadata": {},
   "outputs": [],
   "source": [
    "df_cc = df_cc[df_cc.duplicated() == False]"
   ]
  },
  {
   "cell_type": "markdown",
   "metadata": {},
   "source": [
    "# Basic statistics on numerical variables"
   ]
  },
  {
   "cell_type": "code",
   "execution_count": 18,
   "metadata": {},
   "outputs": [
    {
     "data": {
      "text/html": [
       "<div>\n",
       "<style scoped>\n",
       "    .dataframe tbody tr th:only-of-type {\n",
       "        vertical-align: middle;\n",
       "    }\n",
       "\n",
       "    .dataframe tbody tr th {\n",
       "        vertical-align: top;\n",
       "    }\n",
       "\n",
       "    .dataframe thead th {\n",
       "        text-align: right;\n",
       "    }\n",
       "</style>\n",
       "<table border=\"1\" class=\"dataframe\">\n",
       "  <thead>\n",
       "    <tr style=\"text-align: right;\">\n",
       "      <th></th>\n",
       "      <th>N</th>\n",
       "      <th>NMISS</th>\n",
       "      <th>SUM</th>\n",
       "      <th>MEAN</th>\n",
       "      <th>MEDIAN</th>\n",
       "      <th>STD</th>\n",
       "      <th>VAR</th>\n",
       "      <th>MIN</th>\n",
       "      <th>P1</th>\n",
       "      <th>P5</th>\n",
       "      <th>P10</th>\n",
       "      <th>P25</th>\n",
       "      <th>P50</th>\n",
       "      <th>P75</th>\n",
       "      <th>P90</th>\n",
       "      <th>P95</th>\n",
       "      <th>P99</th>\n",
       "      <th>MAX</th>\n",
       "    </tr>\n",
       "  </thead>\n",
       "  <tbody>\n",
       "    <tr>\n",
       "      <th>region</th>\n",
       "      <td>5000.0</td>\n",
       "      <td>0.0</td>\n",
       "      <td>15007.0</td>\n",
       "      <td>3.001400</td>\n",
       "      <td>3.0</td>\n",
       "      <td>1.421760</td>\n",
       "      <td>2.021402</td>\n",
       "      <td>1.0</td>\n",
       "      <td>1.0</td>\n",
       "      <td>1.0</td>\n",
       "      <td>1.0</td>\n",
       "      <td>2.0</td>\n",
       "      <td>3.0</td>\n",
       "      <td>4.0</td>\n",
       "      <td>5.0</td>\n",
       "      <td>5.0</td>\n",
       "      <td>5.0</td>\n",
       "      <td>5.0</td>\n",
       "    </tr>\n",
       "    <tr>\n",
       "      <th>townsize</th>\n",
       "      <td>4998.0</td>\n",
       "      <td>2.0</td>\n",
       "      <td>13431.0</td>\n",
       "      <td>2.687275</td>\n",
       "      <td>3.0</td>\n",
       "      <td>1.425925</td>\n",
       "      <td>2.033262</td>\n",
       "      <td>1.0</td>\n",
       "      <td>1.0</td>\n",
       "      <td>1.0</td>\n",
       "      <td>1.0</td>\n",
       "      <td>1.0</td>\n",
       "      <td>3.0</td>\n",
       "      <td>4.0</td>\n",
       "      <td>5.0</td>\n",
       "      <td>5.0</td>\n",
       "      <td>5.0</td>\n",
       "      <td>5.0</td>\n",
       "    </tr>\n",
       "    <tr>\n",
       "      <th>gender</th>\n",
       "      <td>5000.0</td>\n",
       "      <td>0.0</td>\n",
       "      <td>2518.0</td>\n",
       "      <td>0.503600</td>\n",
       "      <td>1.0</td>\n",
       "      <td>0.500037</td>\n",
       "      <td>0.250037</td>\n",
       "      <td>0.0</td>\n",
       "      <td>0.0</td>\n",
       "      <td>0.0</td>\n",
       "      <td>0.0</td>\n",
       "      <td>0.0</td>\n",
       "      <td>1.0</td>\n",
       "      <td>1.0</td>\n",
       "      <td>1.0</td>\n",
       "      <td>1.0</td>\n",
       "      <td>1.0</td>\n",
       "      <td>1.0</td>\n",
       "    </tr>\n",
       "    <tr>\n",
       "      <th>age</th>\n",
       "      <td>5000.0</td>\n",
       "      <td>0.0</td>\n",
       "      <td>235128.0</td>\n",
       "      <td>47.025600</td>\n",
       "      <td>47.0</td>\n",
       "      <td>17.770338</td>\n",
       "      <td>315.784902</td>\n",
       "      <td>18.0</td>\n",
       "      <td>18.0</td>\n",
       "      <td>20.0</td>\n",
       "      <td>23.0</td>\n",
       "      <td>31.0</td>\n",
       "      <td>47.0</td>\n",
       "      <td>62.0</td>\n",
       "      <td>72.0</td>\n",
       "      <td>76.0</td>\n",
       "      <td>79.0</td>\n",
       "      <td>79.0</td>\n",
       "    </tr>\n",
       "    <tr>\n",
       "      <th>agecat</th>\n",
       "      <td>5000.0</td>\n",
       "      <td>0.0</td>\n",
       "      <td>21194.0</td>\n",
       "      <td>4.238800</td>\n",
       "      <td>4.0</td>\n",
       "      <td>1.308785</td>\n",
       "      <td>1.712917</td>\n",
       "      <td>2.0</td>\n",
       "      <td>2.0</td>\n",
       "      <td>2.0</td>\n",
       "      <td>2.0</td>\n",
       "      <td>3.0</td>\n",
       "      <td>4.0</td>\n",
       "      <td>5.0</td>\n",
       "      <td>6.0</td>\n",
       "      <td>6.0</td>\n",
       "      <td>6.0</td>\n",
       "      <td>6.0</td>\n",
       "    </tr>\n",
       "  </tbody>\n",
       "</table>\n",
       "</div>"
      ],
      "text/plain": [
       "               N  NMISS       SUM       MEAN  MEDIAN        STD         VAR  \\\n",
       "region    5000.0    0.0   15007.0   3.001400     3.0   1.421760    2.021402   \n",
       "townsize  4998.0    2.0   13431.0   2.687275     3.0   1.425925    2.033262   \n",
       "gender    5000.0    0.0    2518.0   0.503600     1.0   0.500037    0.250037   \n",
       "age       5000.0    0.0  235128.0  47.025600    47.0  17.770338  315.784902   \n",
       "agecat    5000.0    0.0   21194.0   4.238800     4.0   1.308785    1.712917   \n",
       "\n",
       "           MIN    P1    P5   P10   P25   P50   P75   P90   P95   P99   MAX  \n",
       "region     1.0   1.0   1.0   1.0   2.0   3.0   4.0   5.0   5.0   5.0   5.0  \n",
       "townsize   1.0   1.0   1.0   1.0   1.0   3.0   4.0   5.0   5.0   5.0   5.0  \n",
       "gender     0.0   0.0   0.0   0.0   0.0   1.0   1.0   1.0   1.0   1.0   1.0  \n",
       "age       18.0  18.0  20.0  23.0  31.0  47.0  62.0  72.0  76.0  79.0  79.0  \n",
       "agecat     2.0   2.0   2.0   2.0   3.0   4.0   5.0   6.0   6.0   6.0   6.0  "
      ]
     },
     "execution_count": 18,
     "metadata": {},
     "output_type": "execute_result"
    }
   ],
   "source": [
    "def var_summary(x):\n",
    "    return pd.Series([x.count(), x.isnull().sum(), x.sum(), x.mean(), x.median(),  x.std(), x.var(), x.min(), x.dropna().quantile(0.01), x.dropna().quantile(0.05),x.dropna().quantile(0.10),x.dropna().quantile(0.25),x.dropna().quantile(0.50),x.dropna().quantile(0.75), x.dropna().quantile(0.90),x.dropna().quantile(0.95), x.dropna().quantile(0.99),x.max()], \n",
    "                index=['N', 'NMISS', 'SUM', 'MEAN','MEDIAN', 'STD', 'VAR', 'MIN', 'P1' , 'P5' ,'P10' ,'P25' ,'P50' ,'P75' ,'P90' ,'P95' ,'P99' ,'MAX'])\n",
    "\n",
    "num_summary=df_cc._get_numeric_data().apply(lambda x: var_summary(x)).T\n",
    "num_summary.head()"
   ]
  },
  {
   "cell_type": "markdown",
   "metadata": {},
   "source": [
    "# Outlier treatment on numerical variables except Y('cardspent','card2spent')"
   ]
  },
  {
   "cell_type": "code",
   "execution_count": 19,
   "metadata": {},
   "outputs": [],
   "source": [
    "df_cc_outlier = df_cc_num[df_cc_num.columns.difference(['cardspent','card2spent'])]"
   ]
  },
  {
   "cell_type": "code",
   "execution_count": 22,
   "metadata": {},
   "outputs": [],
   "source": [
    "def handling_outliers(y):\n",
    "    y=y.clip(upper = y.quantile(0.99))\n",
    "    y=y.clip(lower = y.quantile(0.01))\n",
    "    return y\n",
    "\n",
    "df_cc_outlier = df_cc_outlier.apply(lambda y:handling_outliers(y))"
   ]
  },
  {
   "cell_type": "markdown",
   "metadata": {},
   "source": [
    "# Y Variable"
   ]
  },
  {
   "cell_type": "code",
   "execution_count": 23,
   "metadata": {},
   "outputs": [],
   "source": [
    "df_cc_num['Total_spent']=df_cc_num['cardspent']+df_cc_num['card2spent']"
   ]
  },
  {
   "cell_type": "code",
   "execution_count": 24,
   "metadata": {},
   "outputs": [
    {
     "data": {
      "text/plain": [
       "Index(['region', 'townsize', 'gender', 'age', 'agecat', 'ed', 'edcat',\n",
       "       'jobcat', 'union', 'employ',\n",
       "       ...\n",
       "       'ownpda', 'ownpc', 'ownipod', 'owngame', 'ownfax', 'news',\n",
       "       'response_01', 'response_02', 'response_03', 'Total_spent'],\n",
       "      dtype='object', length=131)"
      ]
     },
     "execution_count": 24,
     "metadata": {},
     "output_type": "execute_result"
    }
   ],
   "source": [
    "df_cc_num.columns"
   ]
  },
  {
   "cell_type": "markdown",
   "metadata": {},
   "source": [
    "# checking on outliers post treatment"
   ]
  },
  {
   "cell_type": "code",
   "execution_count": 25,
   "metadata": {},
   "outputs": [
    {
     "data": {
      "text/html": [
       "<div>\n",
       "<style scoped>\n",
       "    .dataframe tbody tr th:only-of-type {\n",
       "        vertical-align: middle;\n",
       "    }\n",
       "\n",
       "    .dataframe tbody tr th {\n",
       "        vertical-align: top;\n",
       "    }\n",
       "\n",
       "    .dataframe thead th {\n",
       "        text-align: right;\n",
       "    }\n",
       "</style>\n",
       "<table border=\"1\" class=\"dataframe\">\n",
       "  <thead>\n",
       "    <tr style=\"text-align: right;\">\n",
       "      <th></th>\n",
       "      <th>N</th>\n",
       "      <th>NMISS</th>\n",
       "      <th>SUM</th>\n",
       "      <th>MEAN</th>\n",
       "      <th>MEDIAN</th>\n",
       "      <th>STD</th>\n",
       "      <th>VAR</th>\n",
       "      <th>MIN</th>\n",
       "      <th>P1</th>\n",
       "      <th>P5</th>\n",
       "      <th>P10</th>\n",
       "      <th>P25</th>\n",
       "      <th>P50</th>\n",
       "      <th>P75</th>\n",
       "      <th>P90</th>\n",
       "      <th>P95</th>\n",
       "      <th>P99</th>\n",
       "      <th>MAX</th>\n",
       "    </tr>\n",
       "  </thead>\n",
       "  <tbody>\n",
       "    <tr>\n",
       "      <th>active</th>\n",
       "      <td>5000.0</td>\n",
       "      <td>0.0</td>\n",
       "      <td>2330.0</td>\n",
       "      <td>0.4660</td>\n",
       "      <td>0.0</td>\n",
       "      <td>0.498893</td>\n",
       "      <td>0.248894</td>\n",
       "      <td>0.0</td>\n",
       "      <td>0.0</td>\n",
       "      <td>0.0</td>\n",
       "      <td>0.0</td>\n",
       "      <td>0.0</td>\n",
       "      <td>0.0</td>\n",
       "      <td>1.0</td>\n",
       "      <td>1.0</td>\n",
       "      <td>1.0</td>\n",
       "      <td>1.0</td>\n",
       "      <td>1.0</td>\n",
       "    </tr>\n",
       "    <tr>\n",
       "      <th>address</th>\n",
       "      <td>5000.0</td>\n",
       "      <td>0.0</td>\n",
       "      <td>81832.0</td>\n",
       "      <td>16.3664</td>\n",
       "      <td>14.0</td>\n",
       "      <td>12.297870</td>\n",
       "      <td>151.237599</td>\n",
       "      <td>0.0</td>\n",
       "      <td>0.0</td>\n",
       "      <td>1.0</td>\n",
       "      <td>2.0</td>\n",
       "      <td>6.0</td>\n",
       "      <td>14.0</td>\n",
       "      <td>25.0</td>\n",
       "      <td>34.0</td>\n",
       "      <td>40.0</td>\n",
       "      <td>48.0</td>\n",
       "      <td>48.0</td>\n",
       "    </tr>\n",
       "    <tr>\n",
       "      <th>addresscat</th>\n",
       "      <td>5000.0</td>\n",
       "      <td>0.0</td>\n",
       "      <td>16360.0</td>\n",
       "      <td>3.2720</td>\n",
       "      <td>3.0</td>\n",
       "      <td>1.319987</td>\n",
       "      <td>1.742364</td>\n",
       "      <td>1.0</td>\n",
       "      <td>1.0</td>\n",
       "      <td>1.0</td>\n",
       "      <td>1.0</td>\n",
       "      <td>2.0</td>\n",
       "      <td>3.0</td>\n",
       "      <td>4.0</td>\n",
       "      <td>5.0</td>\n",
       "      <td>5.0</td>\n",
       "      <td>5.0</td>\n",
       "      <td>5.0</td>\n",
       "    </tr>\n",
       "    <tr>\n",
       "      <th>age</th>\n",
       "      <td>5000.0</td>\n",
       "      <td>0.0</td>\n",
       "      <td>235128.0</td>\n",
       "      <td>47.0256</td>\n",
       "      <td>47.0</td>\n",
       "      <td>17.770338</td>\n",
       "      <td>315.784902</td>\n",
       "      <td>18.0</td>\n",
       "      <td>18.0</td>\n",
       "      <td>20.0</td>\n",
       "      <td>23.0</td>\n",
       "      <td>31.0</td>\n",
       "      <td>47.0</td>\n",
       "      <td>62.0</td>\n",
       "      <td>72.0</td>\n",
       "      <td>76.0</td>\n",
       "      <td>79.0</td>\n",
       "      <td>79.0</td>\n",
       "    </tr>\n",
       "    <tr>\n",
       "      <th>agecat</th>\n",
       "      <td>5000.0</td>\n",
       "      <td>0.0</td>\n",
       "      <td>21194.0</td>\n",
       "      <td>4.2388</td>\n",
       "      <td>4.0</td>\n",
       "      <td>1.308785</td>\n",
       "      <td>1.712917</td>\n",
       "      <td>2.0</td>\n",
       "      <td>2.0</td>\n",
       "      <td>2.0</td>\n",
       "      <td>2.0</td>\n",
       "      <td>3.0</td>\n",
       "      <td>4.0</td>\n",
       "      <td>5.0</td>\n",
       "      <td>6.0</td>\n",
       "      <td>6.0</td>\n",
       "      <td>6.0</td>\n",
       "      <td>6.0</td>\n",
       "    </tr>\n",
       "  </tbody>\n",
       "</table>\n",
       "</div>"
      ],
      "text/plain": [
       "                 N  NMISS       SUM     MEAN  MEDIAN        STD         VAR  \\\n",
       "active      5000.0    0.0    2330.0   0.4660     0.0   0.498893    0.248894   \n",
       "address     5000.0    0.0   81832.0  16.3664    14.0  12.297870  151.237599   \n",
       "addresscat  5000.0    0.0   16360.0   3.2720     3.0   1.319987    1.742364   \n",
       "age         5000.0    0.0  235128.0  47.0256    47.0  17.770338  315.784902   \n",
       "agecat      5000.0    0.0   21194.0   4.2388     4.0   1.308785    1.712917   \n",
       "\n",
       "             MIN    P1    P5   P10   P25   P50   P75   P90   P95   P99   MAX  \n",
       "active       0.0   0.0   0.0   0.0   0.0   0.0   1.0   1.0   1.0   1.0   1.0  \n",
       "address      0.0   0.0   1.0   2.0   6.0  14.0  25.0  34.0  40.0  48.0  48.0  \n",
       "addresscat   1.0   1.0   1.0   1.0   2.0   3.0   4.0   5.0   5.0   5.0   5.0  \n",
       "age         18.0  18.0  20.0  23.0  31.0  47.0  62.0  72.0  76.0  79.0  79.0  \n",
       "agecat       2.0   2.0   2.0   2.0   3.0   4.0   5.0   6.0   6.0   6.0   6.0  "
      ]
     },
     "execution_count": 25,
     "metadata": {},
     "output_type": "execute_result"
    }
   ],
   "source": [
    "def var_summary(x):\n",
    "    return pd.Series([x.count(), x.isnull().sum(), x.sum(), x.mean(), x.median(),  x.std(), x.var(), x.min(), x.dropna().quantile(0.01), x.dropna().quantile(0.05),x.dropna().quantile(0.10),x.dropna().quantile(0.25),x.dropna().quantile(0.50),x.dropna().quantile(0.75), x.dropna().quantile(0.90),x.dropna().quantile(0.95), x.dropna().quantile(0.99),x.max()], \n",
    "                index=['N', 'NMISS', 'SUM', 'MEAN','MEDIAN', 'STD', 'VAR', 'MIN', 'P1' , 'P5' ,'P10' ,'P25' ,'P50' ,'P75' ,'P90' ,'P95' ,'P99' ,'MAX'])\n",
    "\n",
    "num_summary=df_cc_outlier._get_numeric_data().apply(lambda x: var_summary(x)).T\n",
    "num_summary.head()"
   ]
  },
  {
   "cell_type": "markdown",
   "metadata": {},
   "source": [
    "# Identification of categorical variables"
   ]
  },
  {
   "cell_type": "code",
   "execution_count": 26,
   "metadata": {},
   "outputs": [
    {
     "data": {
      "text/plain": [
       "Index(['custid', 'birthmonth'], dtype='object')"
      ]
     },
     "execution_count": 26,
     "metadata": {},
     "output_type": "execute_result"
    }
   ],
   "source": [
    "df_cc.select_dtypes('object').columns"
   ]
  },
  {
   "cell_type": "markdown",
   "metadata": {},
   "source": [
    "# to create dummies of categorical variables and then remove the original variable and dummy count -1"
   ]
  },
  {
   "cell_type": "code",
   "execution_count": 27,
   "metadata": {},
   "outputs": [
    {
     "name": "stderr",
     "output_type": "stream",
     "text": [
      "C:\\Users\\Admin\\AppData\\Local\\Temp\\ipykernel_6852\\3122125030.py:10: SettingWithCopyWarning: \n",
      "A value is trying to be set on a copy of a slice from a DataFrame.\n",
      "Try using .loc[row_indexer,col_indexer] = value instead\n",
      "\n",
      "See the caveats in the documentation: https://pandas.pydata.org/pandas-docs/stable/user_guide/indexing.html#returning-a-view-versus-a-copy\n",
      "  df_cc_var[new_feature] = df_cc_var[new_feature].astype('category')\n"
     ]
    }
   ],
   "source": [
    "def handling_dummies(df,col_name):\n",
    "    col_dummies = pd.get_dummies(df[col_name],prefix=col_name)\n",
    "    col_dummies.drop(col_dummies.columns[0],axis=1,inplace=True)\n",
    "    df=pd.concat([df,col_dummies],axis=1)\n",
    "    df.drop(col_name,axis=1,inplace=True)\n",
    "    return df\n",
    "\n",
    "df_cc_var = df_cc[['townsize', 'birthmonth']]\n",
    "for new_feature in df_cc_var.columns:\n",
    "    df_cc_var[new_feature] = df_cc_var[new_feature].astype('category')\n",
    "    df_cc_var = handling_dummies(df_cc_var,new_feature)"
   ]
  },
  {
   "cell_type": "markdown",
   "metadata": {},
   "source": [
    "# getting the X columns"
   ]
  },
  {
   "cell_type": "code",
   "execution_count": 28,
   "metadata": {},
   "outputs": [],
   "source": [
    "df_cc_X =  pd.concat([df_cc_outlier,df_cc_var,df_cc[['cardspent','card2spent']]],axis=1,sort=False)"
   ]
  },
  {
   "cell_type": "code",
   "execution_count": 29,
   "metadata": {},
   "outputs": [
    {
     "data": {
      "text/plain": [
       "Index(['active', 'address', 'addresscat', 'age', 'agecat', 'bfast', 'callcard',\n",
       "       'callid', 'callwait', 'carbought',\n",
       "       ...\n",
       "       'birthmonth_January', 'birthmonth_July', 'birthmonth_June',\n",
       "       'birthmonth_March', 'birthmonth_May', 'birthmonth_November',\n",
       "       'birthmonth_October', 'birthmonth_September', 'cardspent',\n",
       "       'card2spent'],\n",
       "      dtype='object', length=145)"
      ]
     },
     "execution_count": 29,
     "metadata": {},
     "output_type": "execute_result"
    }
   ],
   "source": [
    "df_cc_X.columns"
   ]
  },
  {
   "cell_type": "markdown",
   "metadata": {},
   "source": [
    "# getting the Y column"
   ]
  },
  {
   "cell_type": "code",
   "execution_count": 30,
   "metadata": {},
   "outputs": [],
   "source": [
    "df_cc_Y=pd.DataFrame(df_cc_num['Total_spent'],columns = ['Total_spent'])"
   ]
  },
  {
   "cell_type": "markdown",
   "metadata": {},
   "source": [
    "# getting the overall DataFrame"
   ]
  },
  {
   "cell_type": "code",
   "execution_count": 31,
   "metadata": {},
   "outputs": [],
   "source": [
    "df_cc_total = pd.concat([df_cc_X,df_cc_Y],axis=1,sort=False)"
   ]
  },
  {
   "cell_type": "code",
   "execution_count": 32,
   "metadata": {},
   "outputs": [
    {
     "ename": "NameError",
     "evalue": "name 'pandas_profiling' is not defined",
     "output_type": "error",
     "traceback": [
      "\u001b[1;31m---------------------------------------------------------------------------\u001b[0m",
      "\u001b[1;31mNameError\u001b[0m                                 Traceback (most recent call last)",
      "Cell \u001b[1;32mIn[32], line 1\u001b[0m\n\u001b[1;32m----> 1\u001b[0m pandas_profiling\u001b[38;5;241m.\u001b[39mProfileReport(df_cc_X)\n",
      "\u001b[1;31mNameError\u001b[0m: name 'pandas_profiling' is not defined"
     ]
    }
   ],
   "source": [
    "pandas_profiling.ProfileReport(df_cc_X)"
   ]
  },
  {
   "cell_type": "code",
   "execution_count": 33,
   "metadata": {},
   "outputs": [],
   "source": [
    "from sklearn.ensemble import RandomForestRegressor"
   ]
  },
  {
   "cell_type": "code",
   "execution_count": 34,
   "metadata": {},
   "outputs": [
    {
     "name": "stderr",
     "output_type": "stream",
     "text": [
      "C:\\Users\\Admin\\anaconda3\\Lib\\site-packages\\sklearn\\base.py:1151: DataConversionWarning: A column-vector y was passed when a 1d array was expected. Please change the shape of y to (n_samples,), for example using ravel().\n",
      "  return fit_method(estimator, *args, **kwargs)\n"
     ]
    },
    {
     "data": {
      "text/html": [
       "<style>#sk-container-id-1 {color: black;}#sk-container-id-1 pre{padding: 0;}#sk-container-id-1 div.sk-toggleable {background-color: white;}#sk-container-id-1 label.sk-toggleable__label {cursor: pointer;display: block;width: 100%;margin-bottom: 0;padding: 0.3em;box-sizing: border-box;text-align: center;}#sk-container-id-1 label.sk-toggleable__label-arrow:before {content: \"▸\";float: left;margin-right: 0.25em;color: #696969;}#sk-container-id-1 label.sk-toggleable__label-arrow:hover:before {color: black;}#sk-container-id-1 div.sk-estimator:hover label.sk-toggleable__label-arrow:before {color: black;}#sk-container-id-1 div.sk-toggleable__content {max-height: 0;max-width: 0;overflow: hidden;text-align: left;background-color: #f0f8ff;}#sk-container-id-1 div.sk-toggleable__content pre {margin: 0.2em;color: black;border-radius: 0.25em;background-color: #f0f8ff;}#sk-container-id-1 input.sk-toggleable__control:checked~div.sk-toggleable__content {max-height: 200px;max-width: 100%;overflow: auto;}#sk-container-id-1 input.sk-toggleable__control:checked~label.sk-toggleable__label-arrow:before {content: \"▾\";}#sk-container-id-1 div.sk-estimator input.sk-toggleable__control:checked~label.sk-toggleable__label {background-color: #d4ebff;}#sk-container-id-1 div.sk-label input.sk-toggleable__control:checked~label.sk-toggleable__label {background-color: #d4ebff;}#sk-container-id-1 input.sk-hidden--visually {border: 0;clip: rect(1px 1px 1px 1px);clip: rect(1px, 1px, 1px, 1px);height: 1px;margin: -1px;overflow: hidden;padding: 0;position: absolute;width: 1px;}#sk-container-id-1 div.sk-estimator {font-family: monospace;background-color: #f0f8ff;border: 1px dotted black;border-radius: 0.25em;box-sizing: border-box;margin-bottom: 0.5em;}#sk-container-id-1 div.sk-estimator:hover {background-color: #d4ebff;}#sk-container-id-1 div.sk-parallel-item::after {content: \"\";width: 100%;border-bottom: 1px solid gray;flex-grow: 1;}#sk-container-id-1 div.sk-label:hover label.sk-toggleable__label {background-color: #d4ebff;}#sk-container-id-1 div.sk-serial::before {content: \"\";position: absolute;border-left: 1px solid gray;box-sizing: border-box;top: 0;bottom: 0;left: 50%;z-index: 0;}#sk-container-id-1 div.sk-serial {display: flex;flex-direction: column;align-items: center;background-color: white;padding-right: 0.2em;padding-left: 0.2em;position: relative;}#sk-container-id-1 div.sk-item {position: relative;z-index: 1;}#sk-container-id-1 div.sk-parallel {display: flex;align-items: stretch;justify-content: center;background-color: white;position: relative;}#sk-container-id-1 div.sk-item::before, #sk-container-id-1 div.sk-parallel-item::before {content: \"\";position: absolute;border-left: 1px solid gray;box-sizing: border-box;top: 0;bottom: 0;left: 50%;z-index: -1;}#sk-container-id-1 div.sk-parallel-item {display: flex;flex-direction: column;z-index: 1;position: relative;background-color: white;}#sk-container-id-1 div.sk-parallel-item:first-child::after {align-self: flex-end;width: 50%;}#sk-container-id-1 div.sk-parallel-item:last-child::after {align-self: flex-start;width: 50%;}#sk-container-id-1 div.sk-parallel-item:only-child::after {width: 0;}#sk-container-id-1 div.sk-dashed-wrapped {border: 1px dashed gray;margin: 0 0.4em 0.5em 0.4em;box-sizing: border-box;padding-bottom: 0.4em;background-color: white;}#sk-container-id-1 div.sk-label label {font-family: monospace;font-weight: bold;display: inline-block;line-height: 1.2em;}#sk-container-id-1 div.sk-label-container {text-align: center;}#sk-container-id-1 div.sk-container {/* jupyter's `normalize.less` sets `[hidden] { display: none; }` but bootstrap.min.css set `[hidden] { display: none !important; }` so we also need the `!important` here to be able to override the default hidden behavior on the sphinx rendered scikit-learn.org. See: https://github.com/scikit-learn/scikit-learn/issues/21755 */display: inline-block !important;position: relative;}#sk-container-id-1 div.sk-text-repr-fallback {display: none;}</style><div id=\"sk-container-id-1\" class=\"sk-top-container\"><div class=\"sk-text-repr-fallback\"><pre>RandomForestRegressor(oob_score=True)</pre><b>In a Jupyter environment, please rerun this cell to show the HTML representation or trust the notebook. <br />On GitHub, the HTML representation is unable to render, please try loading this page with nbviewer.org.</b></div><div class=\"sk-container\" hidden><div class=\"sk-item\"><div class=\"sk-estimator sk-toggleable\"><input class=\"sk-toggleable__control sk-hidden--visually\" id=\"sk-estimator-id-1\" type=\"checkbox\" checked><label for=\"sk-estimator-id-1\" class=\"sk-toggleable__label sk-toggleable__label-arrow\">RandomForestRegressor</label><div class=\"sk-toggleable__content\"><pre>RandomForestRegressor(oob_score=True)</pre></div></div></div></div></div>"
      ],
      "text/plain": [
       "RandomForestRegressor(oob_score=True)"
      ]
     },
     "execution_count": 34,
     "metadata": {},
     "output_type": "execute_result"
    }
   ],
   "source": [
    "radm_clf = RandomForestRegressor(oob_score=True,n_estimators=100 )\n",
    "radm_clf.fit( df_cc_X, df_cc_Y )"
   ]
  },
  {
   "cell_type": "code",
   "execution_count": 35,
   "metadata": {},
   "outputs": [],
   "source": [
    "indices = np.argsort(radm_clf.feature_importances_)[::-1]"
   ]
  },
  {
   "cell_type": "code",
   "execution_count": 36,
   "metadata": {},
   "outputs": [
    {
     "data": {
      "text/plain": [
       "<Axes: xlabel='importance', ylabel='feature'>"
      ]
     },
     "execution_count": 36,
     "metadata": {},
     "output_type": "execute_result"
    },
    {
     "data": {
      "image/png": "[encoded data removed]",
      "text/plain": [
       "<Figure size 640x480 with 1 Axes>"
      ]
     },
     "metadata": {},
     "output_type": "display_data"
    }
   ],
   "source": [
    "indices = np.argsort(radm_clf.feature_importances_)[::-1]\n",
    "feature_rank = pd.DataFrame( columns = ['rank', 'feature', 'importance'] )\n",
    "for f in range(df_cc_X.shape[1]):\n",
    "  feature_rank.loc[f] = [f+1,\n",
    "                         df_cc_X.columns[indices[f]],\n",
    "                         radm_clf.feature_importances_[indices[f]]]\n",
    "sn.barplot( y = 'feature', x = 'importance', data = feature_rank )"
   ]
  },
  {
   "cell_type": "code",
   "execution_count": 37,
   "metadata": {},
   "outputs": [
    {
     "data": {
      "text/html": [
       "<div>\n",
       "<style scoped>\n",
       "    .dataframe tbody tr th:only-of-type {\n",
       "        vertical-align: middle;\n",
       "    }\n",
       "\n",
       "    .dataframe tbody tr th {\n",
       "        vertical-align: top;\n",
       "    }\n",
       "\n",
       "    .dataframe thead th {\n",
       "        text-align: right;\n",
       "    }\n",
       "</style>\n",
       "<table border=\"1\" class=\"dataframe\">\n",
       "  <thead>\n",
       "    <tr style=\"text-align: right;\">\n",
       "      <th></th>\n",
       "      <th>rank</th>\n",
       "      <th>feature</th>\n",
       "      <th>importance</th>\n",
       "    </tr>\n",
       "  </thead>\n",
       "  <tbody>\n",
       "    <tr>\n",
       "      <th>0</th>\n",
       "      <td>1</td>\n",
       "      <td>cardspent</td>\n",
       "      <td>0.862659</td>\n",
       "    </tr>\n",
       "    <tr>\n",
       "      <th>1</th>\n",
       "      <td>2</td>\n",
       "      <td>card2spent</td>\n",
       "      <td>0.129849</td>\n",
       "    </tr>\n",
       "    <tr>\n",
       "      <th>2</th>\n",
       "      <td>3</td>\n",
       "      <td>carvalue</td>\n",
       "      <td>0.000644</td>\n",
       "    </tr>\n",
       "    <tr>\n",
       "      <th>3</th>\n",
       "      <td>4</td>\n",
       "      <td>hometype</td>\n",
       "      <td>0.000521</td>\n",
       "    </tr>\n",
       "    <tr>\n",
       "      <th>4</th>\n",
       "      <td>5</td>\n",
       "      <td>debtinc</td>\n",
       "      <td>0.000291</td>\n",
       "    </tr>\n",
       "  </tbody>\n",
       "</table>\n",
       "</div>"
      ],
      "text/plain": [
       "   rank     feature  importance\n",
       "0     1   cardspent    0.862659\n",
       "1     2  card2spent    0.129849\n",
       "2     3    carvalue    0.000644\n",
       "3     4    hometype    0.000521\n",
       "4     5     debtinc    0.000291"
      ]
     },
     "execution_count": 37,
     "metadata": {},
     "output_type": "execute_result"
    }
   ],
   "source": [
    "feature_rank.head()"
   ]
  },
  {
   "cell_type": "code",
   "execution_count": 38,
   "metadata": {},
   "outputs": [],
   "source": [
    "feature_rank.to_csv('feature_rank.csv')"
   ]
  },
  {
   "cell_type": "markdown",
   "metadata": {},
   "source": [
    "# Checking the normality of Y i.e. Total_spent  and lntotalspent"
   ]
  },
  {
   "cell_type": "code",
   "execution_count": 39,
   "metadata": {},
   "outputs": [],
   "source": [
    "df_cc_total['lntotal_spent']= np.log(df_cc_total['Total_spent'])"
   ]
  },
  {
   "cell_type": "code",
   "execution_count": 40,
   "metadata": {},
   "outputs": [
    {
     "name": "stderr",
     "output_type": "stream",
     "text": [
      "C:\\Users\\Admin\\AppData\\Local\\Temp\\ipykernel_6852\\2775173960.py:1: UserWarning: \n",
      "\n",
      "`distplot` is a deprecated function and will be removed in seaborn v0.14.0.\n",
      "\n",
      "Please adapt your code to use either `displot` (a figure-level function with\n",
      "similar flexibility) or `histplot` (an axes-level function for histograms).\n",
      "\n",
      "For a guide to updating your code to use the new functions, please see\n",
      "https://gist.github.com/mwaskom/de44147ed2974457ad6372750bbe5751\n",
      "\n",
      "  sn.distplot(df_cc_total.lntotal_spent)\n"
     ]
    },
    {
     "data": {
      "text/plain": [
       "<Axes: xlabel='lntotal_spent', ylabel='Density'>"
      ]
     },
     "execution_count": 40,
     "metadata": {},
     "output_type": "execute_result"
    },
    {
     "data": {
      "image/png": "[encoded data removed]",
      "text/plain": [
       "<Figure size 640x480 with 1 Axes>"
      ]
     },
     "metadata": {},
     "output_type": "display_data"
    }
   ],
   "source": [
    "sn.distplot(df_cc_total.lntotal_spent)"
   ]
  },
  {
   "cell_type": "code",
   "execution_count": 41,
   "metadata": {
    "scrolled": true
   },
   "outputs": [
    {
     "name": "stderr",
     "output_type": "stream",
     "text": [
      "C:\\Users\\Admin\\AppData\\Local\\Temp\\ipykernel_6852\\2575250160.py:1: UserWarning: \n",
      "\n",
      "`distplot` is a deprecated function and will be removed in seaborn v0.14.0.\n",
      "\n",
      "Please adapt your code to use either `displot` (a figure-level function with\n",
      "similar flexibility) or `histplot` (an axes-level function for histograms).\n",
      "\n",
      "For a guide to updating your code to use the new functions, please see\n",
      "https://gist.github.com/mwaskom/de44147ed2974457ad6372750bbe5751\n",
      "\n",
      "  sn.distplot(df_cc_total.Total_spent)\n"
     ]
    },
    {
     "data": {
      "text/plain": [
       "<Axes: xlabel='Total_spent', ylabel='Density'>"
      ]
     },
     "execution_count": 41,
     "metadata": {},
     "output_type": "execute_result"
    },
    {
     "data": {
      "image/png": "[encoded data removed]",
      "text/plain": [
       "<Figure size 640x480 with 1 Axes>"
      ]
     },
     "metadata": {},
     "output_type": "display_data"
    }
   ],
   "source": [
    "sn.distplot(df_cc_total.Total_spent)"
   ]
  },
  {
   "cell_type": "code",
   "execution_count": 42,
   "metadata": {},
   "outputs": [],
   "source": [
    "df_cc_total=df_cc_total.drop(['Total_spent'],axis=1)"
   ]
  },
  {
   "cell_type": "code",
   "execution_count": 43,
   "metadata": {},
   "outputs": [
    {
     "data": {
      "text/plain": [
       "(5000, 146)"
      ]
     },
     "execution_count": 43,
     "metadata": {},
     "output_type": "execute_result"
    }
   ],
   "source": [
    "df_cc_total.shape"
   ]
  },
  {
   "cell_type": "markdown",
   "metadata": {},
   "source": [
    "# Correlation between X variables & Y"
   ]
  },
  {
   "cell_type": "code",
   "execution_count": 44,
   "metadata": {},
   "outputs": [
    {
     "data": {
      "text/html": [
       "<div>\n",
       "<style scoped>\n",
       "    .dataframe tbody tr th:only-of-type {\n",
       "        vertical-align: middle;\n",
       "    }\n",
       "\n",
       "    .dataframe tbody tr th {\n",
       "        vertical-align: top;\n",
       "    }\n",
       "\n",
       "    .dataframe thead th {\n",
       "        text-align: right;\n",
       "    }\n",
       "</style>\n",
       "<table border=\"1\" class=\"dataframe\">\n",
       "  <thead>\n",
       "    <tr style=\"text-align: right;\">\n",
       "      <th></th>\n",
       "      <th>active</th>\n",
       "      <th>address</th>\n",
       "      <th>addresscat</th>\n",
       "      <th>age</th>\n",
       "      <th>agecat</th>\n",
       "      <th>bfast</th>\n",
       "      <th>callcard</th>\n",
       "      <th>callid</th>\n",
       "      <th>callwait</th>\n",
       "      <th>carbought</th>\n",
       "      <th>...</th>\n",
       "      <th>birthmonth_July</th>\n",
       "      <th>birthmonth_June</th>\n",
       "      <th>birthmonth_March</th>\n",
       "      <th>birthmonth_May</th>\n",
       "      <th>birthmonth_November</th>\n",
       "      <th>birthmonth_October</th>\n",
       "      <th>birthmonth_September</th>\n",
       "      <th>cardspent</th>\n",
       "      <th>card2spent</th>\n",
       "      <th>lntotal_spent</th>\n",
       "    </tr>\n",
       "  </thead>\n",
       "  <tbody>\n",
       "    <tr>\n",
       "      <th>active</th>\n",
       "      <td>1.000000</td>\n",
       "      <td>-0.201846</td>\n",
       "      <td>-0.213171</td>\n",
       "      <td>-0.239011</td>\n",
       "      <td>-0.237864</td>\n",
       "      <td>-0.213911</td>\n",
       "      <td>-0.084257</td>\n",
       "      <td>-0.005793</td>\n",
       "      <td>0.007167</td>\n",
       "      <td>-0.000612</td>\n",
       "      <td>...</td>\n",
       "      <td>-0.003580</td>\n",
       "      <td>0.013413</td>\n",
       "      <td>0.003112</td>\n",
       "      <td>0.009565</td>\n",
       "      <td>-0.025054</td>\n",
       "      <td>0.014525</td>\n",
       "      <td>-0.010324</td>\n",
       "      <td>-0.017515</td>\n",
       "      <td>0.005525</td>\n",
       "      <td>-0.004236</td>\n",
       "    </tr>\n",
       "    <tr>\n",
       "      <th>address</th>\n",
       "      <td>-0.201846</td>\n",
       "      <td>1.000000</td>\n",
       "      <td>0.927169</td>\n",
       "      <td>0.824189</td>\n",
       "      <td>0.801558</td>\n",
       "      <td>0.107197</td>\n",
       "      <td>0.306284</td>\n",
       "      <td>-0.009366</td>\n",
       "      <td>0.001415</td>\n",
       "      <td>0.008362</td>\n",
       "      <td>...</td>\n",
       "      <td>0.009907</td>\n",
       "      <td>0.022816</td>\n",
       "      <td>0.006865</td>\n",
       "      <td>-0.017785</td>\n",
       "      <td>-0.003253</td>\n",
       "      <td>-0.022481</td>\n",
       "      <td>-0.019273</td>\n",
       "      <td>0.067987</td>\n",
       "      <td>0.051718</td>\n",
       "      <td>0.042746</td>\n",
       "    </tr>\n",
       "    <tr>\n",
       "      <th>addresscat</th>\n",
       "      <td>-0.213171</td>\n",
       "      <td>0.927169</td>\n",
       "      <td>1.000000</td>\n",
       "      <td>0.827064</td>\n",
       "      <td>0.829099</td>\n",
       "      <td>0.122459</td>\n",
       "      <td>0.292068</td>\n",
       "      <td>-0.004938</td>\n",
       "      <td>0.014426</td>\n",
       "      <td>0.009066</td>\n",
       "      <td>...</td>\n",
       "      <td>0.004769</td>\n",
       "      <td>0.026090</td>\n",
       "      <td>0.008147</td>\n",
       "      <td>-0.022043</td>\n",
       "      <td>-0.000854</td>\n",
       "      <td>-0.033425</td>\n",
       "      <td>-0.016062</td>\n",
       "      <td>0.093819</td>\n",
       "      <td>0.070517</td>\n",
       "      <td>0.069536</td>\n",
       "    </tr>\n",
       "    <tr>\n",
       "      <th>age</th>\n",
       "      <td>-0.239011</td>\n",
       "      <td>0.824189</td>\n",
       "      <td>0.827064</td>\n",
       "      <td>1.000000</td>\n",
       "      <td>0.969879</td>\n",
       "      <td>0.109656</td>\n",
       "      <td>0.286721</td>\n",
       "      <td>-0.018343</td>\n",
       "      <td>0.001570</td>\n",
       "      <td>0.008255</td>\n",
       "      <td>...</td>\n",
       "      <td>0.020012</td>\n",
       "      <td>0.010682</td>\n",
       "      <td>0.013504</td>\n",
       "      <td>-0.017742</td>\n",
       "      <td>0.008049</td>\n",
       "      <td>-0.029846</td>\n",
       "      <td>-0.012905</td>\n",
       "      <td>0.031032</td>\n",
       "      <td>0.022126</td>\n",
       "      <td>0.002318</td>\n",
       "    </tr>\n",
       "    <tr>\n",
       "      <th>agecat</th>\n",
       "      <td>-0.237864</td>\n",
       "      <td>0.801558</td>\n",
       "      <td>0.829099</td>\n",
       "      <td>0.969879</td>\n",
       "      <td>1.000000</td>\n",
       "      <td>0.117193</td>\n",
       "      <td>0.276903</td>\n",
       "      <td>-0.009300</td>\n",
       "      <td>0.008283</td>\n",
       "      <td>0.009065</td>\n",
       "      <td>...</td>\n",
       "      <td>0.020750</td>\n",
       "      <td>0.006999</td>\n",
       "      <td>0.013645</td>\n",
       "      <td>-0.021179</td>\n",
       "      <td>0.007737</td>\n",
       "      <td>-0.028357</td>\n",
       "      <td>-0.011852</td>\n",
       "      <td>0.049701</td>\n",
       "      <td>0.037420</td>\n",
       "      <td>0.025910</td>\n",
       "    </tr>\n",
       "    <tr>\n",
       "      <th>...</th>\n",
       "      <td>...</td>\n",
       "      <td>...</td>\n",
       "      <td>...</td>\n",
       "      <td>...</td>\n",
       "      <td>...</td>\n",
       "      <td>...</td>\n",
       "      <td>...</td>\n",
       "      <td>...</td>\n",
       "      <td>...</td>\n",
       "      <td>...</td>\n",
       "      <td>...</td>\n",
       "      <td>...</td>\n",
       "      <td>...</td>\n",
       "      <td>...</td>\n",
       "      <td>...</td>\n",
       "      <td>...</td>\n",
       "      <td>...</td>\n",
       "      <td>...</td>\n",
       "      <td>...</td>\n",
       "      <td>...</td>\n",
       "      <td>...</td>\n",
       "    </tr>\n",
       "    <tr>\n",
       "      <th>birthmonth_October</th>\n",
       "      <td>0.014525</td>\n",
       "      <td>-0.022481</td>\n",
       "      <td>-0.033425</td>\n",
       "      <td>-0.029846</td>\n",
       "      <td>-0.028357</td>\n",
       "      <td>0.014039</td>\n",
       "      <td>-0.022058</td>\n",
       "      <td>-0.008513</td>\n",
       "      <td>-0.028294</td>\n",
       "      <td>-0.016289</td>\n",
       "      <td>...</td>\n",
       "      <td>-0.089680</td>\n",
       "      <td>-0.090506</td>\n",
       "      <td>-0.090035</td>\n",
       "      <td>-0.094106</td>\n",
       "      <td>-0.088013</td>\n",
       "      <td>1.000000</td>\n",
       "      <td>-0.094906</td>\n",
       "      <td>0.005178</td>\n",
       "      <td>0.007279</td>\n",
       "      <td>-0.000486</td>\n",
       "    </tr>\n",
       "    <tr>\n",
       "      <th>birthmonth_September</th>\n",
       "      <td>-0.010324</td>\n",
       "      <td>-0.019273</td>\n",
       "      <td>-0.016062</td>\n",
       "      <td>-0.012905</td>\n",
       "      <td>-0.011852</td>\n",
       "      <td>-0.004881</td>\n",
       "      <td>-0.015409</td>\n",
       "      <td>0.019935</td>\n",
       "      <td>0.010573</td>\n",
       "      <td>-0.041229</td>\n",
       "      <td>...</td>\n",
       "      <td>-0.095284</td>\n",
       "      <td>-0.096161</td>\n",
       "      <td>-0.095661</td>\n",
       "      <td>-0.099986</td>\n",
       "      <td>-0.093512</td>\n",
       "      <td>-0.094906</td>\n",
       "      <td>1.000000</td>\n",
       "      <td>-0.010472</td>\n",
       "      <td>-0.008782</td>\n",
       "      <td>-0.007053</td>\n",
       "    </tr>\n",
       "    <tr>\n",
       "      <th>cardspent</th>\n",
       "      <td>-0.017515</td>\n",
       "      <td>0.067987</td>\n",
       "      <td>0.093819</td>\n",
       "      <td>0.031032</td>\n",
       "      <td>0.049701</td>\n",
       "      <td>0.027620</td>\n",
       "      <td>0.027903</td>\n",
       "      <td>0.054094</td>\n",
       "      <td>0.054906</td>\n",
       "      <td>0.007784</td>\n",
       "      <td>...</td>\n",
       "      <td>-0.001385</td>\n",
       "      <td>-0.006037</td>\n",
       "      <td>0.015704</td>\n",
       "      <td>-0.000122</td>\n",
       "      <td>0.008087</td>\n",
       "      <td>0.005178</td>\n",
       "      <td>-0.010472</td>\n",
       "      <td>1.000000</td>\n",
       "      <td>0.586610</td>\n",
       "      <td>0.812192</td>\n",
       "    </tr>\n",
       "    <tr>\n",
       "      <th>card2spent</th>\n",
       "      <td>0.005525</td>\n",
       "      <td>0.051718</td>\n",
       "      <td>0.070517</td>\n",
       "      <td>0.022126</td>\n",
       "      <td>0.037420</td>\n",
       "      <td>0.020227</td>\n",
       "      <td>0.029411</td>\n",
       "      <td>0.035858</td>\n",
       "      <td>0.046335</td>\n",
       "      <td>-0.005965</td>\n",
       "      <td>...</td>\n",
       "      <td>-0.000671</td>\n",
       "      <td>0.004165</td>\n",
       "      <td>-0.010713</td>\n",
       "      <td>-0.000531</td>\n",
       "      <td>0.009989</td>\n",
       "      <td>0.007279</td>\n",
       "      <td>-0.008782</td>\n",
       "      <td>0.586610</td>\n",
       "      <td>1.000000</td>\n",
       "      <td>0.723700</td>\n",
       "    </tr>\n",
       "    <tr>\n",
       "      <th>lntotal_spent</th>\n",
       "      <td>-0.004236</td>\n",
       "      <td>0.042746</td>\n",
       "      <td>0.069536</td>\n",
       "      <td>0.002318</td>\n",
       "      <td>0.025910</td>\n",
       "      <td>0.029769</td>\n",
       "      <td>0.019859</td>\n",
       "      <td>0.054237</td>\n",
       "      <td>0.055119</td>\n",
       "      <td>-0.008395</td>\n",
       "      <td>...</td>\n",
       "      <td>-0.005472</td>\n",
       "      <td>0.004921</td>\n",
       "      <td>0.003621</td>\n",
       "      <td>-0.001572</td>\n",
       "      <td>0.004877</td>\n",
       "      <td>-0.000486</td>\n",
       "      <td>-0.007053</td>\n",
       "      <td>0.812192</td>\n",
       "      <td>0.723700</td>\n",
       "      <td>1.000000</td>\n",
       "    </tr>\n",
       "  </tbody>\n",
       "</table>\n",
       "<p>146 rows × 146 columns</p>\n",
       "</div>"
      ],
      "text/plain": [
       "                        active   address  addresscat       age    agecat  \\\n",
       "active                1.000000 -0.201846   -0.213171 -0.239011 -0.237864   \n",
       "address              -0.201846  1.000000    0.927169  0.824189  0.801558   \n",
       "addresscat           -0.213171  0.927169    1.000000  0.827064  0.829099   \n",
       "age                  -0.239011  0.824189    0.827064  1.000000  0.969879   \n",
       "agecat               -0.237864  0.801558    0.829099  0.969879  1.000000   \n",
       "...                        ...       ...         ...       ...       ...   \n",
       "birthmonth_October    0.014525 -0.022481   -0.033425 -0.029846 -0.028357   \n",
       "birthmonth_September -0.010324 -0.019273   -0.016062 -0.012905 -0.011852   \n",
       "cardspent            -0.017515  0.067987    0.093819  0.031032  0.049701   \n",
       "card2spent            0.005525  0.051718    0.070517  0.022126  0.037420   \n",
       "lntotal_spent        -0.004236  0.042746    0.069536  0.002318  0.025910   \n",
       "\n",
       "                         bfast  callcard    callid  callwait  carbought  ...  \\\n",
       "active               -0.213911 -0.084257 -0.005793  0.007167  -0.000612  ...   \n",
       "address               0.107197  0.306284 -0.009366  0.001415   0.008362  ...   \n",
       "addresscat            0.122459  0.292068 -0.004938  0.014426   0.009066  ...   \n",
       "age                   0.109656  0.286721 -0.018343  0.001570   0.008255  ...   \n",
       "agecat                0.117193  0.276903 -0.009300  0.008283   0.009065  ...   \n",
       "...                        ...       ...       ...       ...        ...  ...   \n",
       "birthmonth_October    0.014039 -0.022058 -0.008513 -0.028294  -0.016289  ...   \n",
       "birthmonth_September -0.004881 -0.015409  0.019935  0.010573  -0.041229  ...   \n",
       "cardspent             0.027620  0.027903  0.054094  0.054906   0.007784  ...   \n",
       "card2spent            0.020227  0.029411  0.035858  0.046335  -0.005965  ...   \n",
       "lntotal_spent         0.029769  0.019859  0.054237  0.055119  -0.008395  ...   \n",
       "\n",
       "                      birthmonth_July  birthmonth_June  birthmonth_March  \\\n",
       "active                      -0.003580         0.013413          0.003112   \n",
       "address                      0.009907         0.022816          0.006865   \n",
       "addresscat                   0.004769         0.026090          0.008147   \n",
       "age                          0.020012         0.010682          0.013504   \n",
       "agecat                       0.020750         0.006999          0.013645   \n",
       "...                               ...              ...               ...   \n",
       "birthmonth_October          -0.089680        -0.090506         -0.090035   \n",
       "birthmonth_September        -0.095284        -0.096161         -0.095661   \n",
       "cardspent                   -0.001385        -0.006037          0.015704   \n",
       "card2spent                  -0.000671         0.004165         -0.010713   \n",
       "lntotal_spent               -0.005472         0.004921          0.003621   \n",
       "\n",
       "                      birthmonth_May  birthmonth_November  birthmonth_October  \\\n",
       "active                      0.009565            -0.025054            0.014525   \n",
       "address                    -0.017785            -0.003253           -0.022481   \n",
       "addresscat                 -0.022043            -0.000854           -0.033425   \n",
       "age                        -0.017742             0.008049           -0.029846   \n",
       "agecat                     -0.021179             0.007737           -0.028357   \n",
       "...                              ...                  ...                 ...   \n",
       "birthmonth_October         -0.094106            -0.088013            1.000000   \n",
       "birthmonth_September       -0.099986            -0.093512           -0.094906   \n",
       "cardspent                  -0.000122             0.008087            0.005178   \n",
       "card2spent                 -0.000531             0.009989            0.007279   \n",
       "lntotal_spent              -0.001572             0.004877           -0.000486   \n",
       "\n",
       "                      birthmonth_September  cardspent  card2spent  \\\n",
       "active                           -0.010324  -0.017515    0.005525   \n",
       "address                          -0.019273   0.067987    0.051718   \n",
       "addresscat                       -0.016062   0.093819    0.070517   \n",
       "age                              -0.012905   0.031032    0.022126   \n",
       "agecat                           -0.011852   0.049701    0.037420   \n",
       "...                                    ...        ...         ...   \n",
       "birthmonth_October               -0.094906   0.005178    0.007279   \n",
       "birthmonth_September              1.000000  -0.010472   -0.008782   \n",
       "cardspent                        -0.010472   1.000000    0.586610   \n",
       "card2spent                       -0.008782   0.586610    1.000000   \n",
       "lntotal_spent                    -0.007053   0.812192    0.723700   \n",
       "\n",
       "                      lntotal_spent  \n",
       "active                    -0.004236  \n",
       "address                    0.042746  \n",
       "addresscat                 0.069536  \n",
       "age                        0.002318  \n",
       "agecat                     0.025910  \n",
       "...                             ...  \n",
       "birthmonth_October        -0.000486  \n",
       "birthmonth_September      -0.007053  \n",
       "cardspent                  0.812192  \n",
       "card2spent                 0.723700  \n",
       "lntotal_spent              1.000000  \n",
       "\n",
       "[146 rows x 146 columns]"
      ]
     },
     "execution_count": 44,
     "metadata": {},
     "output_type": "execute_result"
    }
   ],
   "source": [
    "df_cc_total.corr()"
   ]
  },
  {
   "cell_type": "code",
   "execution_count": 45,
   "metadata": {},
   "outputs": [],
   "source": [
    "df_cc_corr = df_cc_total.corr().iloc[-1:,:]"
   ]
  },
  {
   "cell_type": "code",
   "execution_count": 46,
   "metadata": {},
   "outputs": [],
   "source": [
    "df_cc_corr.to_csv('df_Cc_corr.csv')"
   ]
  },
  {
   "cell_type": "markdown",
   "metadata": {},
   "source": [
    "# Creating feature columns basis correlation output (abs correlation value >10% or/and feature rank)\n",
    "#Taking no. of variables basis sqrt(N)\n",
    "#Here taking 18 variables basis 143 total variables"
   ]
  },
  {
   "cell_type": "code",
   "execution_count": 47,
   "metadata": {},
   "outputs": [],
   "source": [
    "df_cc_feature = df_cc_total[['cardspent','card2spent','debtinc','card2type','wiremon',\n",
    "                        'carvalue','lninc','birthmonth_June','ed','spoused','lntollten',\n",
    "                        'internet','income','creddebt','hometype','inccat','age','card2items','lntotal_spent']]"
   ]
  },
  {
   "cell_type": "code",
   "execution_count": 48,
   "metadata": {},
   "outputs": [],
   "source": [
    "from sklearn.model_selection import train_test_split\n",
    "train ,test = train_test_split(df_cc_feature,test_size=0.3,random_state = 123)"
   ]
  },
  {
   "cell_type": "code",
   "execution_count": 49,
   "metadata": {},
   "outputs": [
    {
     "data": {
      "text/html": [
       "<div>\n",
       "<style scoped>\n",
       "    .dataframe tbody tr th:only-of-type {\n",
       "        vertical-align: middle;\n",
       "    }\n",
       "\n",
       "    .dataframe tbody tr th {\n",
       "        vertical-align: top;\n",
       "    }\n",
       "\n",
       "    .dataframe thead th {\n",
       "        text-align: right;\n",
       "    }\n",
       "</style>\n",
       "<table border=\"1\" class=\"dataframe\">\n",
       "  <thead>\n",
       "    <tr style=\"text-align: right;\">\n",
       "      <th></th>\n",
       "      <th>cardspent</th>\n",
       "      <th>card2spent</th>\n",
       "      <th>debtinc</th>\n",
       "      <th>card2type</th>\n",
       "      <th>wiremon</th>\n",
       "      <th>carvalue</th>\n",
       "      <th>lninc</th>\n",
       "      <th>birthmonth_June</th>\n",
       "      <th>ed</th>\n",
       "      <th>spoused</th>\n",
       "      <th>lntollten</th>\n",
       "      <th>internet</th>\n",
       "      <th>income</th>\n",
       "      <th>creddebt</th>\n",
       "      <th>hometype</th>\n",
       "      <th>inccat</th>\n",
       "      <th>age</th>\n",
       "      <th>card2items</th>\n",
       "      <th>lntotal_spent</th>\n",
       "    </tr>\n",
       "  </thead>\n",
       "  <tbody>\n",
       "    <tr>\n",
       "      <th>4036</th>\n",
       "      <td>458.10</td>\n",
       "      <td>210.04</td>\n",
       "      <td>20.0</td>\n",
       "      <td>1.0</td>\n",
       "      <td>0.0</td>\n",
       "      <td>22.0</td>\n",
       "      <td>3.56</td>\n",
       "      <td>0</td>\n",
       "      <td>17.0</td>\n",
       "      <td>12.0</td>\n",
       "      <td>0.00</td>\n",
       "      <td>1.0</td>\n",
       "      <td>35.0</td>\n",
       "      <td>2.19</td>\n",
       "      <td>1.0</td>\n",
       "      <td>2.0</td>\n",
       "      <td>77.0</td>\n",
       "      <td>6.0</td>\n",
       "      <td>6.504498</td>\n",
       "    </tr>\n",
       "    <tr>\n",
       "      <th>2883</th>\n",
       "      <td>181.83</td>\n",
       "      <td>0.00</td>\n",
       "      <td>8.7</td>\n",
       "      <td>4.0</td>\n",
       "      <td>0.0</td>\n",
       "      <td>22.4</td>\n",
       "      <td>3.87</td>\n",
       "      <td>0</td>\n",
       "      <td>16.0</td>\n",
       "      <td>14.0</td>\n",
       "      <td>0.00</td>\n",
       "      <td>0.0</td>\n",
       "      <td>48.0</td>\n",
       "      <td>2.03</td>\n",
       "      <td>4.0</td>\n",
       "      <td>2.0</td>\n",
       "      <td>76.0</td>\n",
       "      <td>0.0</td>\n",
       "      <td>5.203072</td>\n",
       "    </tr>\n",
       "    <tr>\n",
       "      <th>4162</th>\n",
       "      <td>200.50</td>\n",
       "      <td>19.04</td>\n",
       "      <td>2.8</td>\n",
       "      <td>2.0</td>\n",
       "      <td>47.8</td>\n",
       "      <td>23.1</td>\n",
       "      <td>3.85</td>\n",
       "      <td>0</td>\n",
       "      <td>17.0</td>\n",
       "      <td>-1.0</td>\n",
       "      <td>6.50</td>\n",
       "      <td>2.0</td>\n",
       "      <td>47.0</td>\n",
       "      <td>0.24</td>\n",
       "      <td>1.0</td>\n",
       "      <td>2.0</td>\n",
       "      <td>43.0</td>\n",
       "      <td>1.0</td>\n",
       "      <td>5.391534</td>\n",
       "    </tr>\n",
       "    <tr>\n",
       "      <th>4640</th>\n",
       "      <td>414.03</td>\n",
       "      <td>85.98</td>\n",
       "      <td>17.7</td>\n",
       "      <td>3.0</td>\n",
       "      <td>0.0</td>\n",
       "      <td>23.5</td>\n",
       "      <td>3.81</td>\n",
       "      <td>0</td>\n",
       "      <td>10.0</td>\n",
       "      <td>-1.0</td>\n",
       "      <td>6.38</td>\n",
       "      <td>0.0</td>\n",
       "      <td>45.0</td>\n",
       "      <td>1.06</td>\n",
       "      <td>1.0</td>\n",
       "      <td>2.0</td>\n",
       "      <td>31.0</td>\n",
       "      <td>3.0</td>\n",
       "      <td>6.214628</td>\n",
       "    </tr>\n",
       "    <tr>\n",
       "      <th>2430</th>\n",
       "      <td>1799.19</td>\n",
       "      <td>416.84</td>\n",
       "      <td>14.4</td>\n",
       "      <td>1.0</td>\n",
       "      <td>0.0</td>\n",
       "      <td>18.6</td>\n",
       "      <td>3.61</td>\n",
       "      <td>0</td>\n",
       "      <td>21.0</td>\n",
       "      <td>-1.0</td>\n",
       "      <td>6.65</td>\n",
       "      <td>2.0</td>\n",
       "      <td>37.0</td>\n",
       "      <td>3.64</td>\n",
       "      <td>3.0</td>\n",
       "      <td>2.0</td>\n",
       "      <td>35.0</td>\n",
       "      <td>7.0</td>\n",
       "      <td>7.703473</td>\n",
       "    </tr>\n",
       "  </tbody>\n",
       "</table>\n",
       "</div>"
      ],
      "text/plain": [
       "      cardspent  card2spent  debtinc  card2type  wiremon  carvalue  lninc  \\\n",
       "4036     458.10      210.04     20.0        1.0      0.0      22.0   3.56   \n",
       "2883     181.83        0.00      8.7        4.0      0.0      22.4   3.87   \n",
       "4162     200.50       19.04      2.8        2.0     47.8      23.1   3.85   \n",
       "4640     414.03       85.98     17.7        3.0      0.0      23.5   3.81   \n",
       "2430    1799.19      416.84     14.4        1.0      0.0      18.6   3.61   \n",
       "\n",
       "      birthmonth_June    ed  spoused  lntollten  internet  income  creddebt  \\\n",
       "4036                0  17.0     12.0       0.00       1.0    35.0      2.19   \n",
       "2883                0  16.0     14.0       0.00       0.0    48.0      2.03   \n",
       "4162                0  17.0     -1.0       6.50       2.0    47.0      0.24   \n",
       "4640                0  10.0     -1.0       6.38       0.0    45.0      1.06   \n",
       "2430                0  21.0     -1.0       6.65       2.0    37.0      3.64   \n",
       "\n",
       "      hometype  inccat   age  card2items  lntotal_spent  \n",
       "4036       1.0     2.0  77.0         6.0       6.504498  \n",
       "2883       4.0     2.0  76.0         0.0       5.203072  \n",
       "4162       1.0     2.0  43.0         1.0       5.391534  \n",
       "4640       1.0     2.0  31.0         3.0       6.214628  \n",
       "2430       3.0     2.0  35.0         7.0       7.703473  "
      ]
     },
     "execution_count": 49,
     "metadata": {},
     "output_type": "execute_result"
    }
   ],
   "source": [
    "train.head()"
   ]
  },
  {
   "cell_type": "code",
   "execution_count": 50,
   "metadata": {},
   "outputs": [
    {
     "data": {
      "text/plain": [
       "Index(['cardspent', 'card2spent', 'debtinc', 'card2type', 'wiremon',\n",
       "       'carvalue', 'lninc', 'birthmonth_June', 'ed', 'spoused', 'lntollten',\n",
       "       'internet', 'income', 'creddebt', 'hometype', 'inccat', 'age',\n",
       "       'card2items', 'lntotal_spent'],\n",
       "      dtype='object')"
      ]
     },
     "execution_count": 50,
     "metadata": {},
     "output_type": "execute_result"
    }
   ],
   "source": [
    "train.columns"
   ]
  },
  {
   "cell_type": "code",
   "execution_count": 51,
   "metadata": {},
   "outputs": [
    {
     "data": {
      "text/plain": [
       "Index(['cardspent', 'card2spent', 'debtinc', 'card2type', 'wiremon',\n",
       "       'carvalue', 'lninc', 'birthmonth_June', 'ed', 'spoused', 'lntollten',\n",
       "       'internet', 'income', 'creddebt', 'hometype', 'inccat', 'age',\n",
       "       'card2items', 'lntotal_spent'],\n",
       "      dtype='object')"
      ]
     },
     "execution_count": 51,
     "metadata": {},
     "output_type": "execute_result"
    }
   ],
   "source": [
    "train.columns= [phrase.strip().replace('.', '_') for phrase in train.columns]\n",
    "train.columns"
   ]
  },
  {
   "cell_type": "code",
   "execution_count": 52,
   "metadata": {
    "scrolled": false
   },
   "outputs": [
    {
     "name": "stdout",
     "output_type": "stream",
     "text": [
      "age+birthmonth_June+card2items+card2spent+card2type+cardspent+carvalue+creddebt+debtinc+ed+hometype+inccat+income+internet+lninc+lntollten+spoused+wiremon\n",
      "lntotal_spent~age+birthmonth_June+card2items+card2spent+card2type+cardspent+carvalue+creddebt+debtinc+ed+hometype+inccat+income+internet+lninc+lntollten+spoused+wiremon\n"
     ]
    }
   ],
   "source": [
    "all_columns = \"+\".join(train.columns.difference( ['lntotal_spent'] ))\n",
    "\n",
    "print (all_columns)\n",
    "\n",
    "my_formula = \"lntotal_spent~\" + all_columns\n",
    "\n",
    "print (my_formula)"
   ]
  },
  {
   "cell_type": "code",
   "execution_count": 53,
   "metadata": {
    "scrolled": true
   },
   "outputs": [],
   "source": [
    "import statsmodels.formula.api as smf\n",
    "lm=smf.ols(formula=my_formula, data=train).fit()"
   ]
  },
  {
   "cell_type": "code",
   "execution_count": 54,
   "metadata": {},
   "outputs": [
    {
     "data": {
      "text/html": [
       "<table class=\"simpletable\">\n",
       "<caption>OLS Regression Results</caption>\n",
       "<tr>\n",
       "  <th>Dep. Variable:</th>      <td>lntotal_spent</td>  <th>  R-squared:         </th> <td>   0.813</td>\n",
       "</tr>\n",
       "<tr>\n",
       "  <th>Model:</th>                   <td>OLS</td>       <th>  Adj. R-squared:    </th> <td>   0.812</td>\n",
       "</tr>\n",
       "<tr>\n",
       "  <th>Method:</th>             <td>Least Squares</td>  <th>  F-statistic:       </th> <td>   840.1</td>\n",
       "</tr>\n",
       "<tr>\n",
       "  <th>Date:</th>             <td>Sat, 28 Sep 2024</td> <th>  Prob (F-statistic):</th>  <td>  0.00</td> \n",
       "</tr>\n",
       "<tr>\n",
       "  <th>Time:</th>                 <td>18:08:12</td>     <th>  Log-Likelihood:    </th> <td> -703.75</td>\n",
       "</tr>\n",
       "<tr>\n",
       "  <th>No. Observations:</th>      <td>  3500</td>      <th>  AIC:               </th> <td>   1446.</td>\n",
       "</tr>\n",
       "<tr>\n",
       "  <th>Df Residuals:</th>          <td>  3481</td>      <th>  BIC:               </th> <td>   1563.</td>\n",
       "</tr>\n",
       "<tr>\n",
       "  <th>Df Model:</th>              <td>    18</td>      <th>                     </th>     <td> </td>   \n",
       "</tr>\n",
       "<tr>\n",
       "  <th>Covariance Type:</th>      <td>nonrobust</td>    <th>                     </th>     <td> </td>   \n",
       "</tr>\n",
       "</table>\n",
       "<table class=\"simpletable\">\n",
       "<tr>\n",
       "         <td></td>            <th>coef</th>     <th>std err</th>      <th>t</th>      <th>P>|t|</th>  <th>[0.025</th>    <th>0.975]</th>  \n",
       "</tr>\n",
       "<tr>\n",
       "  <th>Intercept</th>       <td>    4.2582</td> <td>    0.071</td> <td>   59.691</td> <td> 0.000</td> <td>    4.118</td> <td>    4.398</td>\n",
       "</tr>\n",
       "<tr>\n",
       "  <th>age</th>             <td>   -0.0010</td> <td>    0.000</td> <td>   -3.221</td> <td> 0.001</td> <td>   -0.002</td> <td>   -0.000</td>\n",
       "</tr>\n",
       "<tr>\n",
       "  <th>birthmonth_June</th> <td>   -0.0040</td> <td>    0.018</td> <td>   -0.222</td> <td> 0.825</td> <td>   -0.039</td> <td>    0.031</td>\n",
       "</tr>\n",
       "<tr>\n",
       "  <th>card2items</th>      <td>    0.0910</td> <td>    0.003</td> <td>   31.677</td> <td> 0.000</td> <td>    0.085</td> <td>    0.097</td>\n",
       "</tr>\n",
       "<tr>\n",
       "  <th>card2spent</th>      <td>    0.0004</td> <td> 6.12e-05</td> <td>    5.904</td> <td> 0.000</td> <td>    0.000</td> <td>    0.000</td>\n",
       "</tr>\n",
       "<tr>\n",
       "  <th>card2type</th>       <td>   -0.0012</td> <td>    0.004</td> <td>   -0.277</td> <td> 0.781</td> <td>   -0.010</td> <td>    0.008</td>\n",
       "</tr>\n",
       "<tr>\n",
       "  <th>cardspent</th>       <td>    0.0018</td> <td> 2.73e-05</td> <td>   65.924</td> <td> 0.000</td> <td>    0.002</td> <td>    0.002</td>\n",
       "</tr>\n",
       "<tr>\n",
       "  <th>carvalue</th>        <td>   -0.0008</td> <td>    0.000</td> <td>   -1.776</td> <td> 0.076</td> <td>   -0.002</td> <td> 8.42e-05</td>\n",
       "</tr>\n",
       "<tr>\n",
       "  <th>creddebt</th>        <td>   -0.0010</td> <td>    0.003</td> <td>   -0.289</td> <td> 0.773</td> <td>   -0.008</td> <td>    0.006</td>\n",
       "</tr>\n",
       "<tr>\n",
       "  <th>debtinc</th>         <td> 3.669e-06</td> <td>    0.001</td> <td>    0.004</td> <td> 0.997</td> <td>   -0.002</td> <td>    0.002</td>\n",
       "</tr>\n",
       "<tr>\n",
       "  <th>ed</th>              <td>   -0.0039</td> <td>    0.002</td> <td>   -2.162</td> <td> 0.031</td> <td>   -0.008</td> <td>   -0.000</td>\n",
       "</tr>\n",
       "<tr>\n",
       "  <th>hometype</th>        <td>   -0.0020</td> <td>    0.006</td> <td>   -0.364</td> <td> 0.716</td> <td>   -0.013</td> <td>    0.009</td>\n",
       "</tr>\n",
       "<tr>\n",
       "  <th>inccat</th>          <td>   -0.0345</td> <td>    0.014</td> <td>   -2.391</td> <td> 0.017</td> <td>   -0.063</td> <td>   -0.006</td>\n",
       "</tr>\n",
       "<tr>\n",
       "  <th>income</th>          <td>   -0.0011</td> <td>    0.000</td> <td>   -3.671</td> <td> 0.000</td> <td>   -0.002</td> <td>   -0.001</td>\n",
       "</tr>\n",
       "<tr>\n",
       "  <th>internet</th>        <td>    0.0073</td> <td>    0.004</td> <td>    1.739</td> <td> 0.082</td> <td>   -0.001</td> <td>    0.016</td>\n",
       "</tr>\n",
       "<tr>\n",
       "  <th>lninc</th>           <td>    0.2445</td> <td>    0.024</td> <td>    9.990</td> <td> 0.000</td> <td>    0.196</td> <td>    0.292</td>\n",
       "</tr>\n",
       "<tr>\n",
       "  <th>lntollten</th>       <td>   -0.0011</td> <td>    0.002</td> <td>   -0.674</td> <td> 0.500</td> <td>   -0.004</td> <td>    0.002</td>\n",
       "</tr>\n",
       "<tr>\n",
       "  <th>spoused</th>         <td>    0.0001</td> <td>    0.001</td> <td>    0.159</td> <td> 0.874</td> <td>   -0.001</td> <td>    0.001</td>\n",
       "</tr>\n",
       "<tr>\n",
       "  <th>wiremon</th>         <td>    0.0008</td> <td>    0.000</td> <td>    2.460</td> <td> 0.014</td> <td>    0.000</td> <td>    0.001</td>\n",
       "</tr>\n",
       "</table>\n",
       "<table class=\"simpletable\">\n",
       "<tr>\n",
       "  <th>Omnibus:</th>       <td>2796.218</td> <th>  Durbin-Watson:     </th>  <td>   1.984</td> \n",
       "</tr>\n",
       "<tr>\n",
       "  <th>Prob(Omnibus):</th>  <td> 0.000</td>  <th>  Jarque-Bera (JB):  </th> <td>116173.675</td>\n",
       "</tr>\n",
       "<tr>\n",
       "  <th>Skew:</th>           <td>-3.471</td>  <th>  Prob(JB):          </th>  <td>    0.00</td> \n",
       "</tr>\n",
       "<tr>\n",
       "  <th>Kurtosis:</th>       <td>30.357</td>  <th>  Cond. No.          </th>  <td>6.94e+03</td> \n",
       "</tr>\n",
       "</table><br/><br/>Notes:<br/>[1] Standard Errors assume that the covariance matrix of the errors is correctly specified.<br/>[2] The condition number is large, 6.94e+03. This might indicate that there are<br/>strong multicollinearity or other numerical problems."
      ],
      "text/latex": [
       "\\begin{center}\n",
       "\\begin{tabular}{lclc}\n",
       "\\toprule\n",
       "\\textbf{Dep. Variable:}    &  lntotal\\_spent  & \\textbf{  R-squared:         } &     0.813   \\\\\n",
       "\\textbf{Model:}            &       OLS        & \\textbf{  Adj. R-squared:    } &     0.812   \\\\\n",
       "\\textbf{Method:}           &  Least Squares   & \\textbf{  F-statistic:       } &     840.1   \\\\\n",
       "\\textbf{Date:}             & Sat, 28 Sep 2024 & \\textbf{  Prob (F-statistic):} &     0.00    \\\\\n",
       "\\textbf{Time:}             &     18:08:12     & \\textbf{  Log-Likelihood:    } &   -703.75   \\\\\n",
       "\\textbf{No. Observations:} &        3500      & \\textbf{  AIC:               } &     1446.   \\\\\n",
       "\\textbf{Df Residuals:}     &        3481      & \\textbf{  BIC:               } &     1563.   \\\\\n",
       "\\textbf{Df Model:}         &          18      & \\textbf{                     } &             \\\\\n",
       "\\textbf{Covariance Type:}  &    nonrobust     & \\textbf{                     } &             \\\\\n",
       "\\bottomrule\n",
       "\\end{tabular}\n",
       "\\begin{tabular}{lcccccc}\n",
       "                          & \\textbf{coef} & \\textbf{std err} & \\textbf{t} & \\textbf{P$> |$t$|$} & \\textbf{[0.025} & \\textbf{0.975]}  \\\\\n",
       "\\midrule\n",
       "\\textbf{Intercept}        &       4.2582  &        0.071     &    59.691  &         0.000        &        4.118    &        4.398     \\\\\n",
       "\\textbf{age}              &      -0.0010  &        0.000     &    -3.221  &         0.001        &       -0.002    &       -0.000     \\\\\n",
       "\\textbf{birthmonth\\_June} &      -0.0040  &        0.018     &    -0.222  &         0.825        &       -0.039    &        0.031     \\\\\n",
       "\\textbf{card2items}       &       0.0910  &        0.003     &    31.677  &         0.000        &        0.085    &        0.097     \\\\\n",
       "\\textbf{card2spent}       &       0.0004  &     6.12e-05     &     5.904  &         0.000        &        0.000    &        0.000     \\\\\n",
       "\\textbf{card2type}        &      -0.0012  &        0.004     &    -0.277  &         0.781        &       -0.010    &        0.008     \\\\\n",
       "\\textbf{cardspent}        &       0.0018  &     2.73e-05     &    65.924  &         0.000        &        0.002    &        0.002     \\\\\n",
       "\\textbf{carvalue}         &      -0.0008  &        0.000     &    -1.776  &         0.076        &       -0.002    &     8.42e-05     \\\\\n",
       "\\textbf{creddebt}         &      -0.0010  &        0.003     &    -0.289  &         0.773        &       -0.008    &        0.006     \\\\\n",
       "\\textbf{debtinc}          &    3.669e-06  &        0.001     &     0.004  &         0.997        &       -0.002    &        0.002     \\\\\n",
       "\\textbf{ed}               &      -0.0039  &        0.002     &    -2.162  &         0.031        &       -0.008    &       -0.000     \\\\\n",
       "\\textbf{hometype}         &      -0.0020  &        0.006     &    -0.364  &         0.716        &       -0.013    &        0.009     \\\\\n",
       "\\textbf{inccat}           &      -0.0345  &        0.014     &    -2.391  &         0.017        &       -0.063    &       -0.006     \\\\\n",
       "\\textbf{income}           &      -0.0011  &        0.000     &    -3.671  &         0.000        &       -0.002    &       -0.001     \\\\\n",
       "\\textbf{internet}         &       0.0073  &        0.004     &     1.739  &         0.082        &       -0.001    &        0.016     \\\\\n",
       "\\textbf{lninc}            &       0.2445  &        0.024     &     9.990  &         0.000        &        0.196    &        0.292     \\\\\n",
       "\\textbf{lntollten}        &      -0.0011  &        0.002     &    -0.674  &         0.500        &       -0.004    &        0.002     \\\\\n",
       "\\textbf{spoused}          &       0.0001  &        0.001     &     0.159  &         0.874        &       -0.001    &        0.001     \\\\\n",
       "\\textbf{wiremon}          &       0.0008  &        0.000     &     2.460  &         0.014        &        0.000    &        0.001     \\\\\n",
       "\\bottomrule\n",
       "\\end{tabular}\n",
       "\\begin{tabular}{lclc}\n",
       "\\textbf{Omnibus:}       & 2796.218 & \\textbf{  Durbin-Watson:     } &     1.984   \\\\\n",
       "\\textbf{Prob(Omnibus):} &   0.000  & \\textbf{  Jarque-Bera (JB):  } & 116173.675  \\\\\n",
       "\\textbf{Skew:}          &  -3.471  & \\textbf{  Prob(JB):          } &      0.00   \\\\\n",
       "\\textbf{Kurtosis:}      &  30.357  & \\textbf{  Cond. No.          } &  6.94e+03   \\\\\n",
       "\\bottomrule\n",
       "\\end{tabular}\n",
       "%\\caption{OLS Regression Results}\n",
       "\\end{center}\n",
       "\n",
       "Notes: \\newline\n",
       " [1] Standard Errors assume that the covariance matrix of the errors is correctly specified. \\newline\n",
       " [2] The condition number is large, 6.94e+03. This might indicate that there are \\newline\n",
       " strong multicollinearity or other numerical problems."
      ],
      "text/plain": [
       "<class 'statsmodels.iolib.summary.Summary'>\n",
       "\"\"\"\n",
       "                            OLS Regression Results                            \n",
       "==============================================================================\n",
       "Dep. Variable:          lntotal_spent   R-squared:                       0.813\n",
       "Model:                            OLS   Adj. R-squared:                  0.812\n",
       "Method:                 Least Squares   F-statistic:                     840.1\n",
       "Date:                Sat, 28 Sep 2024   Prob (F-statistic):               0.00\n",
       "Time:                        18:08:12   Log-Likelihood:                -703.75\n",
       "No. Observations:                3500   AIC:                             1446.\n",
       "Df Residuals:                    3481   BIC:                             1563.\n",
       "Df Model:                          18                                         \n",
       "Covariance Type:            nonrobust                                         \n",
       "===================================================================================\n",
       "                      coef    std err          t      P>|t|      [0.025      0.975]\n",
       "-----------------------------------------------------------------------------------\n",
       "Intercept           4.2582      0.071     59.691      0.000       4.118       4.398\n",
       "age                -0.0010      0.000     -3.221      0.001      -0.002      -0.000\n",
       "birthmonth_June    -0.0040      0.018     -0.222      0.825      -0.039       0.031\n",
       "card2items          0.0910      0.003     31.677      0.000       0.085       0.097\n",
       "card2spent          0.0004   6.12e-05      5.904      0.000       0.000       0.000\n",
       "card2type          -0.0012      0.004     -0.277      0.781      -0.010       0.008\n",
       "cardspent           0.0018   2.73e-05     65.924      0.000       0.002       0.002\n",
       "carvalue           -0.0008      0.000     -1.776      0.076      -0.002    8.42e-05\n",
       "creddebt           -0.0010      0.003     -0.289      0.773      -0.008       0.006\n",
       "debtinc          3.669e-06      0.001      0.004      0.997      -0.002       0.002\n",
       "ed                 -0.0039      0.002     -2.162      0.031      -0.008      -0.000\n",
       "hometype           -0.0020      0.006     -0.364      0.716      -0.013       0.009\n",
       "inccat             -0.0345      0.014     -2.391      0.017      -0.063      -0.006\n",
       "income             -0.0011      0.000     -3.671      0.000      -0.002      -0.001\n",
       "internet            0.0073      0.004      1.739      0.082      -0.001       0.016\n",
       "lninc               0.2445      0.024      9.990      0.000       0.196       0.292\n",
       "lntollten          -0.0011      0.002     -0.674      0.500      -0.004       0.002\n",
       "spoused             0.0001      0.001      0.159      0.874      -0.001       0.001\n",
       "wiremon             0.0008      0.000      2.460      0.014       0.000       0.001\n",
       "==============================================================================\n",
       "Omnibus:                     2796.218   Durbin-Watson:                   1.984\n",
       "Prob(Omnibus):                  0.000   Jarque-Bera (JB):           116173.675\n",
       "Skew:                          -3.471   Prob(JB):                         0.00\n",
       "Kurtosis:                      30.357   Cond. No.                     6.94e+03\n",
       "==============================================================================\n",
       "\n",
       "Notes:\n",
       "[1] Standard Errors assume that the covariance matrix of the errors is correctly specified.\n",
       "[2] The condition number is large, 6.94e+03. This might indicate that there are\n",
       "strong multicollinearity or other numerical problems.\n",
       "\"\"\""
      ]
     },
     "execution_count": 54,
     "metadata": {},
     "output_type": "execute_result"
    }
   ],
   "source": [
    "lm.summary()"
   ]
  },
  {
   "cell_type": "markdown",
   "metadata": {},
   "source": [
    "# Calculation of VIF"
   ]
  },
  {
   "cell_type": "code",
   "execution_count": 55,
   "metadata": {},
   "outputs": [],
   "source": [
    "import statsmodels as smd\n",
    "from statsmodels.stats.outliers_influence import variance_inflation_factor\n",
    "from patsy import dmatrices"
   ]
  },
  {
   "cell_type": "code",
   "execution_count": 56,
   "metadata": {},
   "outputs": [],
   "source": [
    "%%capture\n",
    "#gather features\n",
    "#features = \"+\".join(df_cc_feature.columns - [\"lntotal_spent\"])\n",
    "\n",
    "# get y and X dataframes based on this regression\n",
    "y, X = dmatrices('lntotal_spent~age+birthmonth_June+card2items+card2spent+card2type+cardspent+carvalue+creddebt+debtinc+ed+hometype+inccat+income+internet+lninc+lntollten+spoused+wiremon',df_cc_feature, return_type='dataframe')\n"
   ]
  },
  {
   "cell_type": "code",
   "execution_count": 57,
   "metadata": {},
   "outputs": [],
   "source": [
    "# For each X, calculate VIF and save in dataframe\n",
    "vif = pd.DataFrame()\n",
    "vif[\"VIF Factor\"] = [variance_inflation_factor(X.values, i) for i in range(X.shape[1])]\n",
    "vif[\"features\"] = X.columns"
   ]
  },
  {
   "cell_type": "code",
   "execution_count": 58,
   "metadata": {},
   "outputs": [],
   "source": [
    "vif[\"VIF Factor\"] = [variance_inflation_factor(X.values, i) for i in range(X.shape[1])]"
   ]
  },
  {
   "cell_type": "code",
   "execution_count": 59,
   "metadata": {},
   "outputs": [
    {
     "data": {
      "text/html": [
       "<div>\n",
       "<style scoped>\n",
       "    .dataframe tbody tr th:only-of-type {\n",
       "        vertical-align: middle;\n",
       "    }\n",
       "\n",
       "    .dataframe tbody tr th {\n",
       "        vertical-align: top;\n",
       "    }\n",
       "\n",
       "    .dataframe thead th {\n",
       "        text-align: right;\n",
       "    }\n",
       "</style>\n",
       "<table border=\"1\" class=\"dataframe\">\n",
       "  <thead>\n",
       "    <tr style=\"text-align: right;\">\n",
       "      <th></th>\n",
       "      <th>VIF Factor</th>\n",
       "      <th>features</th>\n",
       "    </tr>\n",
       "  </thead>\n",
       "  <tbody>\n",
       "    <tr>\n",
       "      <th>0</th>\n",
       "      <td>199.5</td>\n",
       "      <td>Intercept</td>\n",
       "    </tr>\n",
       "    <tr>\n",
       "      <th>1</th>\n",
       "      <td>1.1</td>\n",
       "      <td>age</td>\n",
       "    </tr>\n",
       "    <tr>\n",
       "      <th>2</th>\n",
       "      <td>1.0</td>\n",
       "      <td>birthmonth_June</td>\n",
       "    </tr>\n",
       "    <tr>\n",
       "      <th>3</th>\n",
       "      <td>2.0</td>\n",
       "      <td>card2items</td>\n",
       "    </tr>\n",
       "    <tr>\n",
       "      <th>4</th>\n",
       "      <td>3.0</td>\n",
       "      <td>card2spent</td>\n",
       "    </tr>\n",
       "    <tr>\n",
       "      <th>5</th>\n",
       "      <td>1.0</td>\n",
       "      <td>card2type</td>\n",
       "    </tr>\n",
       "    <tr>\n",
       "      <th>6</th>\n",
       "      <td>1.8</td>\n",
       "      <td>cardspent</td>\n",
       "    </tr>\n",
       "    <tr>\n",
       "      <th>7</th>\n",
       "      <td>3.6</td>\n",
       "      <td>carvalue</td>\n",
       "    </tr>\n",
       "    <tr>\n",
       "      <th>8</th>\n",
       "      <td>2.5</td>\n",
       "      <td>creddebt</td>\n",
       "    </tr>\n",
       "    <tr>\n",
       "      <th>9</th>\n",
       "      <td>1.5</td>\n",
       "      <td>debtinc</td>\n",
       "    </tr>\n",
       "    <tr>\n",
       "      <th>10</th>\n",
       "      <td>1.4</td>\n",
       "      <td>ed</td>\n",
       "    </tr>\n",
       "    <tr>\n",
       "      <th>11</th>\n",
       "      <td>1.0</td>\n",
       "      <td>hometype</td>\n",
       "    </tr>\n",
       "    <tr>\n",
       "      <th>12</th>\n",
       "      <td>12.1</td>\n",
       "      <td>inccat</td>\n",
       "    </tr>\n",
       "    <tr>\n",
       "      <th>13</th>\n",
       "      <td>7.9</td>\n",
       "      <td>income</td>\n",
       "    </tr>\n",
       "    <tr>\n",
       "      <th>14</th>\n",
       "      <td>1.5</td>\n",
       "      <td>internet</td>\n",
       "    </tr>\n",
       "    <tr>\n",
       "      <th>15</th>\n",
       "      <td>12.9</td>\n",
       "      <td>lninc</td>\n",
       "    </tr>\n",
       "    <tr>\n",
       "      <th>16</th>\n",
       "      <td>1.3</td>\n",
       "      <td>lntollten</td>\n",
       "    </tr>\n",
       "    <tr>\n",
       "      <th>17</th>\n",
       "      <td>1.0</td>\n",
       "      <td>spoused</td>\n",
       "    </tr>\n",
       "    <tr>\n",
       "      <th>18</th>\n",
       "      <td>1.6</td>\n",
       "      <td>wiremon</td>\n",
       "    </tr>\n",
       "  </tbody>\n",
       "</table>\n",
       "</div>"
      ],
      "text/plain": [
       "    VIF Factor         features\n",
       "0        199.5        Intercept\n",
       "1          1.1              age\n",
       "2          1.0  birthmonth_June\n",
       "3          2.0       card2items\n",
       "4          3.0       card2spent\n",
       "5          1.0        card2type\n",
       "6          1.8        cardspent\n",
       "7          3.6         carvalue\n",
       "8          2.5         creddebt\n",
       "9          1.5          debtinc\n",
       "10         1.4               ed\n",
       "11         1.0         hometype\n",
       "12        12.1           inccat\n",
       "13         7.9           income\n",
       "14         1.5         internet\n",
       "15        12.9            lninc\n",
       "16         1.3        lntollten\n",
       "17         1.0          spoused\n",
       "18         1.6          wiremon"
      ]
     },
     "execution_count": 59,
     "metadata": {},
     "output_type": "execute_result"
    }
   ],
   "source": [
    " vif.round(1)"
   ]
  },
  {
   "cell_type": "markdown",
   "metadata": {},
   "source": [
    "# The following variables have VIF greated than 10 and therefore need to be removed\n",
    "Intercept\n",
    "inccat\n",
    "lninc\n"
   ]
  },
  {
   "cell_type": "markdown",
   "metadata": {},
   "source": [
    "# Recreating the model minus the variables with High VIF\n",
    "Intercept is being removed using \"-1\" in my_formula"
   ]
  },
  {
   "cell_type": "code",
   "execution_count": 60,
   "metadata": {},
   "outputs": [
    {
     "name": "stdout",
     "output_type": "stream",
     "text": [
      "age+birthmonth_June+card2items+card2spent+card2type+cardspent+carvalue+creddebt+debtinc+ed+hometype+income+internet+lntollten+spoused+wiremon\n",
      "lntotal_spent~age+birthmonth_June+card2items+card2spent+card2type+cardspent+carvalue+creddebt+debtinc+ed+hometype+income+internet+lntollten+spoused+wiremon-1\n"
     ]
    }
   ],
   "source": [
    "all_columns = \"+\".join(train.columns.difference( ['lntotal_spent','inccat','lninc'] ))\n",
    "\n",
    "print (all_columns)\n",
    "\n",
    "my_formula = \"lntotal_spent~\" + all_columns + \"-1\"\n",
    "\n",
    "print (my_formula)"
   ]
  },
  {
   "cell_type": "code",
   "execution_count": 61,
   "metadata": {},
   "outputs": [],
   "source": [
    "import statsmodels.formula.api as smf\n",
    "lm=smf.ols(formula=my_formula, data=train).fit()"
   ]
  },
  {
   "cell_type": "code",
   "execution_count": 62,
   "metadata": {
    "scrolled": true
   },
   "outputs": [
    {
     "data": {
      "text/html": [
       "<table class=\"simpletable\">\n",
       "<caption>OLS Regression Results</caption>\n",
       "<tr>\n",
       "  <th>Dep. Variable:</th>      <td>lntotal_spent</td>  <th>  R-squared (uncentered):</th>      <td>   0.984</td> \n",
       "</tr>\n",
       "<tr>\n",
       "  <th>Model:</th>                   <td>OLS</td>       <th>  Adj. R-squared (uncentered):</th> <td>   0.984</td> \n",
       "</tr>\n",
       "<tr>\n",
       "  <th>Method:</th>             <td>Least Squares</td>  <th>  F-statistic:       </th>          <td>1.377e+04</td>\n",
       "</tr>\n",
       "<tr>\n",
       "  <th>Date:</th>             <td>Sat, 28 Sep 2024</td> <th>  Prob (F-statistic):</th>           <td>  0.00</td>  \n",
       "</tr>\n",
       "<tr>\n",
       "  <th>Time:</th>                 <td>18:10:09</td>     <th>  Log-Likelihood:    </th>          <td> -3968.8</td> \n",
       "</tr>\n",
       "<tr>\n",
       "  <th>No. Observations:</th>      <td>  3500</td>      <th>  AIC:               </th>          <td>   7970.</td> \n",
       "</tr>\n",
       "<tr>\n",
       "  <th>Df Residuals:</th>          <td>  3484</td>      <th>  BIC:               </th>          <td>   8068.</td> \n",
       "</tr>\n",
       "<tr>\n",
       "  <th>Df Model:</th>              <td>    16</td>      <th>                     </th>              <td> </td>    \n",
       "</tr>\n",
       "<tr>\n",
       "  <th>Covariance Type:</th>      <td>nonrobust</td>    <th>                     </th>              <td> </td>    \n",
       "</tr>\n",
       "</table>\n",
       "<table class=\"simpletable\">\n",
       "<tr>\n",
       "         <td></td>            <th>coef</th>     <th>std err</th>      <th>t</th>      <th>P>|t|</th>  <th>[0.025</th>    <th>0.975]</th>  \n",
       "</tr>\n",
       "<tr>\n",
       "  <th>age</th>             <td>    0.0139</td> <td>    0.001</td> <td>   20.234</td> <td> 0.000</td> <td>    0.013</td> <td>    0.015</td>\n",
       "</tr>\n",
       "<tr>\n",
       "  <th>birthmonth_June</th> <td>    0.0909</td> <td>    0.046</td> <td>    1.983</td> <td> 0.047</td> <td>    0.001</td> <td>    0.181</td>\n",
       "</tr>\n",
       "<tr>\n",
       "  <th>card2items</th>      <td>    0.2042</td> <td>    0.007</td> <td>   29.197</td> <td> 0.000</td> <td>    0.191</td> <td>    0.218</td>\n",
       "</tr>\n",
       "<tr>\n",
       "  <th>card2spent</th>      <td>   -0.0009</td> <td>    0.000</td> <td>   -5.706</td> <td> 0.000</td> <td>   -0.001</td> <td>   -0.001</td>\n",
       "</tr>\n",
       "<tr>\n",
       "  <th>card2type</th>       <td>    0.1988</td> <td>    0.011</td> <td>   18.390</td> <td> 0.000</td> <td>    0.178</td> <td>    0.220</td>\n",
       "</tr>\n",
       "<tr>\n",
       "  <th>cardspent</th>       <td>    0.0024</td> <td> 6.83e-05</td> <td>   35.102</td> <td> 0.000</td> <td>    0.002</td> <td>    0.003</td>\n",
       "</tr>\n",
       "<tr>\n",
       "  <th>carvalue</th>        <td>    0.0010</td> <td>    0.001</td> <td>    0.858</td> <td> 0.391</td> <td>   -0.001</td> <td>    0.003</td>\n",
       "</tr>\n",
       "<tr>\n",
       "  <th>creddebt</th>        <td>   -0.0702</td> <td>    0.008</td> <td>   -8.346</td> <td> 0.000</td> <td>   -0.087</td> <td>   -0.054</td>\n",
       "</tr>\n",
       "<tr>\n",
       "  <th>debtinc</th>         <td>    0.0337</td> <td>    0.002</td> <td>   13.742</td> <td> 0.000</td> <td>    0.029</td> <td>    0.038</td>\n",
       "</tr>\n",
       "<tr>\n",
       "  <th>ed</th>              <td>    0.1617</td> <td>    0.003</td> <td>   46.596</td> <td> 0.000</td> <td>    0.155</td> <td>    0.168</td>\n",
       "</tr>\n",
       "<tr>\n",
       "  <th>hometype</th>        <td>    0.2049</td> <td>    0.014</td> <td>   15.130</td> <td> 0.000</td> <td>    0.178</td> <td>    0.231</td>\n",
       "</tr>\n",
       "<tr>\n",
       "  <th>income</th>          <td>    0.0022</td> <td>    0.001</td> <td>    3.657</td> <td> 0.000</td> <td>    0.001</td> <td>    0.003</td>\n",
       "</tr>\n",
       "<tr>\n",
       "  <th>internet</th>        <td>   -0.0401</td> <td>    0.011</td> <td>   -3.758</td> <td> 0.000</td> <td>   -0.061</td> <td>   -0.019</td>\n",
       "</tr>\n",
       "<tr>\n",
       "  <th>lntollten</th>       <td>    0.0396</td> <td>    0.004</td> <td>    9.400</td> <td> 0.000</td> <td>    0.031</td> <td>    0.048</td>\n",
       "</tr>\n",
       "<tr>\n",
       "  <th>spoused</th>         <td>    0.0031</td> <td>    0.002</td> <td>    1.875</td> <td> 0.061</td> <td>   -0.000</td> <td>    0.006</td>\n",
       "</tr>\n",
       "<tr>\n",
       "  <th>wiremon</th>         <td>   -0.0065</td> <td>    0.001</td> <td>   -7.710</td> <td> 0.000</td> <td>   -0.008</td> <td>   -0.005</td>\n",
       "</tr>\n",
       "</table>\n",
       "<table class=\"simpletable\">\n",
       "<tr>\n",
       "  <th>Omnibus:</th>       <td>196.256</td> <th>  Durbin-Watson:     </th> <td>   1.946</td>\n",
       "</tr>\n",
       "<tr>\n",
       "  <th>Prob(Omnibus):</th> <td> 0.000</td>  <th>  Jarque-Bera (JB):  </th> <td> 323.223</td>\n",
       "</tr>\n",
       "<tr>\n",
       "  <th>Skew:</th>          <td>-0.452</td>  <th>  Prob(JB):          </th> <td>6.50e-71</td>\n",
       "</tr>\n",
       "<tr>\n",
       "  <th>Kurtosis:</th>      <td> 4.182</td>  <th>  Cond. No.          </th> <td>1.67e+03</td>\n",
       "</tr>\n",
       "</table><br/><br/>Notes:<br/>[1] R² is computed without centering (uncentered) since the model does not contain a constant.<br/>[2] Standard Errors assume that the covariance matrix of the errors is correctly specified.<br/>[3] The condition number is large, 1.67e+03. This might indicate that there are<br/>strong multicollinearity or other numerical problems."
      ],
      "text/latex": [
       "\\begin{center}\n",
       "\\begin{tabular}{lclc}\n",
       "\\toprule\n",
       "\\textbf{Dep. Variable:}    &  lntotal\\_spent  & \\textbf{  R-squared (uncentered):}      &     0.984   \\\\\n",
       "\\textbf{Model:}            &       OLS        & \\textbf{  Adj. R-squared (uncentered):} &     0.984   \\\\\n",
       "\\textbf{Method:}           &  Least Squares   & \\textbf{  F-statistic:       }          & 1.377e+04   \\\\\n",
       "\\textbf{Date:}             & Sat, 28 Sep 2024 & \\textbf{  Prob (F-statistic):}          &     0.00    \\\\\n",
       "\\textbf{Time:}             &     18:10:09     & \\textbf{  Log-Likelihood:    }          &   -3968.8   \\\\\n",
       "\\textbf{No. Observations:} &        3500      & \\textbf{  AIC:               }          &     7970.   \\\\\n",
       "\\textbf{Df Residuals:}     &        3484      & \\textbf{  BIC:               }          &     8068.   \\\\\n",
       "\\textbf{Df Model:}         &          16      & \\textbf{                     }          &             \\\\\n",
       "\\textbf{Covariance Type:}  &    nonrobust     & \\textbf{                     }          &             \\\\\n",
       "\\bottomrule\n",
       "\\end{tabular}\n",
       "\\begin{tabular}{lcccccc}\n",
       "                          & \\textbf{coef} & \\textbf{std err} & \\textbf{t} & \\textbf{P$> |$t$|$} & \\textbf{[0.025} & \\textbf{0.975]}  \\\\\n",
       "\\midrule\n",
       "\\textbf{age}              &       0.0139  &        0.001     &    20.234  &         0.000        &        0.013    &        0.015     \\\\\n",
       "\\textbf{birthmonth\\_June} &       0.0909  &        0.046     &     1.983  &         0.047        &        0.001    &        0.181     \\\\\n",
       "\\textbf{card2items}       &       0.2042  &        0.007     &    29.197  &         0.000        &        0.191    &        0.218     \\\\\n",
       "\\textbf{card2spent}       &      -0.0009  &        0.000     &    -5.706  &         0.000        &       -0.001    &       -0.001     \\\\\n",
       "\\textbf{card2type}        &       0.1988  &        0.011     &    18.390  &         0.000        &        0.178    &        0.220     \\\\\n",
       "\\textbf{cardspent}        &       0.0024  &     6.83e-05     &    35.102  &         0.000        &        0.002    &        0.003     \\\\\n",
       "\\textbf{carvalue}         &       0.0010  &        0.001     &     0.858  &         0.391        &       -0.001    &        0.003     \\\\\n",
       "\\textbf{creddebt}         &      -0.0702  &        0.008     &    -8.346  &         0.000        &       -0.087    &       -0.054     \\\\\n",
       "\\textbf{debtinc}          &       0.0337  &        0.002     &    13.742  &         0.000        &        0.029    &        0.038     \\\\\n",
       "\\textbf{ed}               &       0.1617  &        0.003     &    46.596  &         0.000        &        0.155    &        0.168     \\\\\n",
       "\\textbf{hometype}         &       0.2049  &        0.014     &    15.130  &         0.000        &        0.178    &        0.231     \\\\\n",
       "\\textbf{income}           &       0.0022  &        0.001     &     3.657  &         0.000        &        0.001    &        0.003     \\\\\n",
       "\\textbf{internet}         &      -0.0401  &        0.011     &    -3.758  &         0.000        &       -0.061    &       -0.019     \\\\\n",
       "\\textbf{lntollten}        &       0.0396  &        0.004     &     9.400  &         0.000        &        0.031    &        0.048     \\\\\n",
       "\\textbf{spoused}          &       0.0031  &        0.002     &     1.875  &         0.061        &       -0.000    &        0.006     \\\\\n",
       "\\textbf{wiremon}          &      -0.0065  &        0.001     &    -7.710  &         0.000        &       -0.008    &       -0.005     \\\\\n",
       "\\bottomrule\n",
       "\\end{tabular}\n",
       "\\begin{tabular}{lclc}\n",
       "\\textbf{Omnibus:}       & 196.256 & \\textbf{  Durbin-Watson:     } &    1.946  \\\\\n",
       "\\textbf{Prob(Omnibus):} &   0.000 & \\textbf{  Jarque-Bera (JB):  } &  323.223  \\\\\n",
       "\\textbf{Skew:}          &  -0.452 & \\textbf{  Prob(JB):          } & 6.50e-71  \\\\\n",
       "\\textbf{Kurtosis:}      &   4.182 & \\textbf{  Cond. No.          } & 1.67e+03  \\\\\n",
       "\\bottomrule\n",
       "\\end{tabular}\n",
       "%\\caption{OLS Regression Results}\n",
       "\\end{center}\n",
       "\n",
       "Notes: \\newline\n",
       " [1] R² is computed without centering (uncentered) since the model does not contain a constant. \\newline\n",
       " [2] Standard Errors assume that the covariance matrix of the errors is correctly specified. \\newline\n",
       " [3] The condition number is large, 1.67e+03. This might indicate that there are \\newline\n",
       " strong multicollinearity or other numerical problems."
      ],
      "text/plain": [
       "<class 'statsmodels.iolib.summary.Summary'>\n",
       "\"\"\"\n",
       "                                 OLS Regression Results                                \n",
       "=======================================================================================\n",
       "Dep. Variable:          lntotal_spent   R-squared (uncentered):                   0.984\n",
       "Model:                            OLS   Adj. R-squared (uncentered):              0.984\n",
       "Method:                 Least Squares   F-statistic:                          1.377e+04\n",
       "Date:                Sat, 28 Sep 2024   Prob (F-statistic):                        0.00\n",
       "Time:                        18:10:09   Log-Likelihood:                         -3968.8\n",
       "No. Observations:                3500   AIC:                                      7970.\n",
       "Df Residuals:                    3484   BIC:                                      8068.\n",
       "Df Model:                          16                                                  \n",
       "Covariance Type:            nonrobust                                                  \n",
       "===================================================================================\n",
       "                      coef    std err          t      P>|t|      [0.025      0.975]\n",
       "-----------------------------------------------------------------------------------\n",
       "age                 0.0139      0.001     20.234      0.000       0.013       0.015\n",
       "birthmonth_June     0.0909      0.046      1.983      0.047       0.001       0.181\n",
       "card2items          0.2042      0.007     29.197      0.000       0.191       0.218\n",
       "card2spent         -0.0009      0.000     -5.706      0.000      -0.001      -0.001\n",
       "card2type           0.1988      0.011     18.390      0.000       0.178       0.220\n",
       "cardspent           0.0024   6.83e-05     35.102      0.000       0.002       0.003\n",
       "carvalue            0.0010      0.001      0.858      0.391      -0.001       0.003\n",
       "creddebt           -0.0702      0.008     -8.346      0.000      -0.087      -0.054\n",
       "debtinc             0.0337      0.002     13.742      0.000       0.029       0.038\n",
       "ed                  0.1617      0.003     46.596      0.000       0.155       0.168\n",
       "hometype            0.2049      0.014     15.130      0.000       0.178       0.231\n",
       "income              0.0022      0.001      3.657      0.000       0.001       0.003\n",
       "internet           -0.0401      0.011     -3.758      0.000      -0.061      -0.019\n",
       "lntollten           0.0396      0.004      9.400      0.000       0.031       0.048\n",
       "spoused             0.0031      0.002      1.875      0.061      -0.000       0.006\n",
       "wiremon            -0.0065      0.001     -7.710      0.000      -0.008      -0.005\n",
       "==============================================================================\n",
       "Omnibus:                      196.256   Durbin-Watson:                   1.946\n",
       "Prob(Omnibus):                  0.000   Jarque-Bera (JB):              323.223\n",
       "Skew:                          -0.452   Prob(JB):                     6.50e-71\n",
       "Kurtosis:                       4.182   Cond. No.                     1.67e+03\n",
       "==============================================================================\n",
       "\n",
       "Notes:\n",
       "[1] R² is computed without centering (uncentered) since the model does not contain a constant.\n",
       "[2] Standard Errors assume that the covariance matrix of the errors is correctly specified.\n",
       "[3] The condition number is large, 1.67e+03. This might indicate that there are\n",
       "strong multicollinearity or other numerical problems.\n",
       "\"\"\""
      ]
     },
     "execution_count": 62,
     "metadata": {},
     "output_type": "execute_result"
    }
   ],
   "source": [
    "lm.summary()"
   ]
  },
  {
   "cell_type": "markdown",
   "metadata": {},
   "source": [
    "# Getting rid of variable with high p value in t-test and then rebuilding the model\n",
    "#Variable with high p value is \"carvalue\" and the same needs to be removed"
   ]
  },
  {
   "cell_type": "code",
   "execution_count": 63,
   "metadata": {},
   "outputs": [
    {
     "name": "stdout",
     "output_type": "stream",
     "text": [
      "age+birthmonth_June+card2items+card2spent+card2type+cardspent+creddebt+debtinc+ed+hometype+income+internet+lntollten+spoused+wiremon\n",
      "lntotal_spent~age+birthmonth_June+card2items+card2spent+card2type+cardspent+creddebt+debtinc+ed+hometype+income+internet+lntollten+spoused+wiremon-1\n"
     ]
    }
   ],
   "source": [
    "all_columns = \"+\".join(train.columns.difference( ['lntotal_spent','inccat','lninc','carvalue'] ))\n",
    "\n",
    "print (all_columns)\n",
    "\n",
    "my_formula = \"lntotal_spent~\" + all_columns + \"-1\"\n",
    "\n",
    "print (my_formula)"
   ]
  },
  {
   "cell_type": "code",
   "execution_count": 64,
   "metadata": {},
   "outputs": [
    {
     "data": {
      "text/html": [
       "<table class=\"simpletable\">\n",
       "<caption>OLS Regression Results</caption>\n",
       "<tr>\n",
       "  <th>Dep. Variable:</th>      <td>lntotal_spent</td>  <th>  R-squared (uncentered):</th>      <td>   0.984</td> \n",
       "</tr>\n",
       "<tr>\n",
       "  <th>Model:</th>                   <td>OLS</td>       <th>  Adj. R-squared (uncentered):</th> <td>   0.984</td> \n",
       "</tr>\n",
       "<tr>\n",
       "  <th>Method:</th>             <td>Least Squares</td>  <th>  F-statistic:       </th>          <td>1.469e+04</td>\n",
       "</tr>\n",
       "<tr>\n",
       "  <th>Date:</th>             <td>Sat, 28 Sep 2024</td> <th>  Prob (F-statistic):</th>           <td>  0.00</td>  \n",
       "</tr>\n",
       "<tr>\n",
       "  <th>Time:</th>                 <td>18:17:19</td>     <th>  Log-Likelihood:    </th>          <td> -3969.2</td> \n",
       "</tr>\n",
       "<tr>\n",
       "  <th>No. Observations:</th>      <td>  3500</td>      <th>  AIC:               </th>          <td>   7968.</td> \n",
       "</tr>\n",
       "<tr>\n",
       "  <th>Df Residuals:</th>          <td>  3485</td>      <th>  BIC:               </th>          <td>   8061.</td> \n",
       "</tr>\n",
       "<tr>\n",
       "  <th>Df Model:</th>              <td>    15</td>      <th>                     </th>              <td> </td>    \n",
       "</tr>\n",
       "<tr>\n",
       "  <th>Covariance Type:</th>      <td>nonrobust</td>    <th>                     </th>              <td> </td>    \n",
       "</tr>\n",
       "</table>\n",
       "<table class=\"simpletable\">\n",
       "<tr>\n",
       "         <td></td>            <th>coef</th>     <th>std err</th>      <th>t</th>      <th>P>|t|</th>  <th>[0.025</th>    <th>0.975]</th>  \n",
       "</tr>\n",
       "<tr>\n",
       "  <th>age</th>             <td>    0.0139</td> <td>    0.001</td> <td>   20.242</td> <td> 0.000</td> <td>    0.013</td> <td>    0.015</td>\n",
       "</tr>\n",
       "<tr>\n",
       "  <th>birthmonth_June</th> <td>    0.0914</td> <td>    0.046</td> <td>    1.994</td> <td> 0.046</td> <td>    0.002</td> <td>    0.181</td>\n",
       "</tr>\n",
       "<tr>\n",
       "  <th>card2items</th>      <td>    0.2043</td> <td>    0.007</td> <td>   29.215</td> <td> 0.000</td> <td>    0.191</td> <td>    0.218</td>\n",
       "</tr>\n",
       "<tr>\n",
       "  <th>card2spent</th>      <td>   -0.0009</td> <td>    0.000</td> <td>   -5.728</td> <td> 0.000</td> <td>   -0.001</td> <td>   -0.001</td>\n",
       "</tr>\n",
       "<tr>\n",
       "  <th>card2type</th>       <td>    0.1989</td> <td>    0.011</td> <td>   18.408</td> <td> 0.000</td> <td>    0.178</td> <td>    0.220</td>\n",
       "</tr>\n",
       "<tr>\n",
       "  <th>cardspent</th>       <td>    0.0024</td> <td> 6.82e-05</td> <td>   35.166</td> <td> 0.000</td> <td>    0.002</td> <td>    0.003</td>\n",
       "</tr>\n",
       "<tr>\n",
       "  <th>creddebt</th>        <td>   -0.0704</td> <td>    0.008</td> <td>   -8.370</td> <td> 0.000</td> <td>   -0.087</td> <td>   -0.054</td>\n",
       "</tr>\n",
       "<tr>\n",
       "  <th>debtinc</th>         <td>    0.0337</td> <td>    0.002</td> <td>   13.773</td> <td> 0.000</td> <td>    0.029</td> <td>    0.039</td>\n",
       "</tr>\n",
       "<tr>\n",
       "  <th>ed</th>              <td>    0.1617</td> <td>    0.003</td> <td>   46.601</td> <td> 0.000</td> <td>    0.155</td> <td>    0.168</td>\n",
       "</tr>\n",
       "<tr>\n",
       "  <th>hometype</th>        <td>    0.2051</td> <td>    0.014</td> <td>   15.156</td> <td> 0.000</td> <td>    0.179</td> <td>    0.232</td>\n",
       "</tr>\n",
       "<tr>\n",
       "  <th>income</th>          <td>    0.0026</td> <td>    0.000</td> <td>    6.215</td> <td> 0.000</td> <td>    0.002</td> <td>    0.003</td>\n",
       "</tr>\n",
       "<tr>\n",
       "  <th>internet</th>        <td>   -0.0401</td> <td>    0.011</td> <td>   -3.757</td> <td> 0.000</td> <td>   -0.061</td> <td>   -0.019</td>\n",
       "</tr>\n",
       "<tr>\n",
       "  <th>lntollten</th>       <td>    0.0395</td> <td>    0.004</td> <td>    9.386</td> <td> 0.000</td> <td>    0.031</td> <td>    0.048</td>\n",
       "</tr>\n",
       "<tr>\n",
       "  <th>spoused</th>         <td>    0.0031</td> <td>    0.002</td> <td>    1.878</td> <td> 0.061</td> <td>   -0.000</td> <td>    0.006</td>\n",
       "</tr>\n",
       "<tr>\n",
       "  <th>wiremon</th>         <td>   -0.0066</td> <td>    0.001</td> <td>   -7.715</td> <td> 0.000</td> <td>   -0.008</td> <td>   -0.005</td>\n",
       "</tr>\n",
       "</table>\n",
       "<table class=\"simpletable\">\n",
       "<tr>\n",
       "  <th>Omnibus:</th>       <td>193.930</td> <th>  Durbin-Watson:     </th> <td>   1.946</td>\n",
       "</tr>\n",
       "<tr>\n",
       "  <th>Prob(Omnibus):</th> <td> 0.000</td>  <th>  Jarque-Bera (JB):  </th> <td> 315.858</td>\n",
       "</tr>\n",
       "<tr>\n",
       "  <th>Skew:</th>          <td>-0.451</td>  <th>  Prob(JB):          </th> <td>2.58e-69</td>\n",
       "</tr>\n",
       "<tr>\n",
       "  <th>Kurtosis:</th>      <td> 4.162</td>  <th>  Cond. No.          </th> <td>1.67e+03</td>\n",
       "</tr>\n",
       "</table><br/><br/>Notes:<br/>[1] R² is computed without centering (uncentered) since the model does not contain a constant.<br/>[2] Standard Errors assume that the covariance matrix of the errors is correctly specified.<br/>[3] The condition number is large, 1.67e+03. This might indicate that there are<br/>strong multicollinearity or other numerical problems."
      ],
      "text/latex": [
       "\\begin{center}\n",
       "\\begin{tabular}{lclc}\n",
       "\\toprule\n",
       "\\textbf{Dep. Variable:}    &  lntotal\\_spent  & \\textbf{  R-squared (uncentered):}      &     0.984   \\\\\n",
       "\\textbf{Model:}            &       OLS        & \\textbf{  Adj. R-squared (uncentered):} &     0.984   \\\\\n",
       "\\textbf{Method:}           &  Least Squares   & \\textbf{  F-statistic:       }          & 1.469e+04   \\\\\n",
       "\\textbf{Date:}             & Sat, 28 Sep 2024 & \\textbf{  Prob (F-statistic):}          &     0.00    \\\\\n",
       "\\textbf{Time:}             &     18:17:19     & \\textbf{  Log-Likelihood:    }          &   -3969.2   \\\\\n",
       "\\textbf{No. Observations:} &        3500      & \\textbf{  AIC:               }          &     7968.   \\\\\n",
       "\\textbf{Df Residuals:}     &        3485      & \\textbf{  BIC:               }          &     8061.   \\\\\n",
       "\\textbf{Df Model:}         &          15      & \\textbf{                     }          &             \\\\\n",
       "\\textbf{Covariance Type:}  &    nonrobust     & \\textbf{                     }          &             \\\\\n",
       "\\bottomrule\n",
       "\\end{tabular}\n",
       "\\begin{tabular}{lcccccc}\n",
       "                          & \\textbf{coef} & \\textbf{std err} & \\textbf{t} & \\textbf{P$> |$t$|$} & \\textbf{[0.025} & \\textbf{0.975]}  \\\\\n",
       "\\midrule\n",
       "\\textbf{age}              &       0.0139  &        0.001     &    20.242  &         0.000        &        0.013    &        0.015     \\\\\n",
       "\\textbf{birthmonth\\_June} &       0.0914  &        0.046     &     1.994  &         0.046        &        0.002    &        0.181     \\\\\n",
       "\\textbf{card2items}       &       0.2043  &        0.007     &    29.215  &         0.000        &        0.191    &        0.218     \\\\\n",
       "\\textbf{card2spent}       &      -0.0009  &        0.000     &    -5.728  &         0.000        &       -0.001    &       -0.001     \\\\\n",
       "\\textbf{card2type}        &       0.1989  &        0.011     &    18.408  &         0.000        &        0.178    &        0.220     \\\\\n",
       "\\textbf{cardspent}        &       0.0024  &     6.82e-05     &    35.166  &         0.000        &        0.002    &        0.003     \\\\\n",
       "\\textbf{creddebt}         &      -0.0704  &        0.008     &    -8.370  &         0.000        &       -0.087    &       -0.054     \\\\\n",
       "\\textbf{debtinc}          &       0.0337  &        0.002     &    13.773  &         0.000        &        0.029    &        0.039     \\\\\n",
       "\\textbf{ed}               &       0.1617  &        0.003     &    46.601  &         0.000        &        0.155    &        0.168     \\\\\n",
       "\\textbf{hometype}         &       0.2051  &        0.014     &    15.156  &         0.000        &        0.179    &        0.232     \\\\\n",
       "\\textbf{income}           &       0.0026  &        0.000     &     6.215  &         0.000        &        0.002    &        0.003     \\\\\n",
       "\\textbf{internet}         &      -0.0401  &        0.011     &    -3.757  &         0.000        &       -0.061    &       -0.019     \\\\\n",
       "\\textbf{lntollten}        &       0.0395  &        0.004     &     9.386  &         0.000        &        0.031    &        0.048     \\\\\n",
       "\\textbf{spoused}          &       0.0031  &        0.002     &     1.878  &         0.061        &       -0.000    &        0.006     \\\\\n",
       "\\textbf{wiremon}          &      -0.0066  &        0.001     &    -7.715  &         0.000        &       -0.008    &       -0.005     \\\\\n",
       "\\bottomrule\n",
       "\\end{tabular}\n",
       "\\begin{tabular}{lclc}\n",
       "\\textbf{Omnibus:}       & 193.930 & \\textbf{  Durbin-Watson:     } &    1.946  \\\\\n",
       "\\textbf{Prob(Omnibus):} &   0.000 & \\textbf{  Jarque-Bera (JB):  } &  315.858  \\\\\n",
       "\\textbf{Skew:}          &  -0.451 & \\textbf{  Prob(JB):          } & 2.58e-69  \\\\\n",
       "\\textbf{Kurtosis:}      &   4.162 & \\textbf{  Cond. No.          } & 1.67e+03  \\\\\n",
       "\\bottomrule\n",
       "\\end{tabular}\n",
       "%\\caption{OLS Regression Results}\n",
       "\\end{center}\n",
       "\n",
       "Notes: \\newline\n",
       " [1] R² is computed without centering (uncentered) since the model does not contain a constant. \\newline\n",
       " [2] Standard Errors assume that the covariance matrix of the errors is correctly specified. \\newline\n",
       " [3] The condition number is large, 1.67e+03. This might indicate that there are \\newline\n",
       " strong multicollinearity or other numerical problems."
      ],
      "text/plain": [
       "<class 'statsmodels.iolib.summary.Summary'>\n",
       "\"\"\"\n",
       "                                 OLS Regression Results                                \n",
       "=======================================================================================\n",
       "Dep. Variable:          lntotal_spent   R-squared (uncentered):                   0.984\n",
       "Model:                            OLS   Adj. R-squared (uncentered):              0.984\n",
       "Method:                 Least Squares   F-statistic:                          1.469e+04\n",
       "Date:                Sat, 28 Sep 2024   Prob (F-statistic):                        0.00\n",
       "Time:                        18:17:19   Log-Likelihood:                         -3969.2\n",
       "No. Observations:                3500   AIC:                                      7968.\n",
       "Df Residuals:                    3485   BIC:                                      8061.\n",
       "Df Model:                          15                                                  \n",
       "Covariance Type:            nonrobust                                                  \n",
       "===================================================================================\n",
       "                      coef    std err          t      P>|t|      [0.025      0.975]\n",
       "-----------------------------------------------------------------------------------\n",
       "age                 0.0139      0.001     20.242      0.000       0.013       0.015\n",
       "birthmonth_June     0.0914      0.046      1.994      0.046       0.002       0.181\n",
       "card2items          0.2043      0.007     29.215      0.000       0.191       0.218\n",
       "card2spent         -0.0009      0.000     -5.728      0.000      -0.001      -0.001\n",
       "card2type           0.1989      0.011     18.408      0.000       0.178       0.220\n",
       "cardspent           0.0024   6.82e-05     35.166      0.000       0.002       0.003\n",
       "creddebt           -0.0704      0.008     -8.370      0.000      -0.087      -0.054\n",
       "debtinc             0.0337      0.002     13.773      0.000       0.029       0.039\n",
       "ed                  0.1617      0.003     46.601      0.000       0.155       0.168\n",
       "hometype            0.2051      0.014     15.156      0.000       0.179       0.232\n",
       "income              0.0026      0.000      6.215      0.000       0.002       0.003\n",
       "internet           -0.0401      0.011     -3.757      0.000      -0.061      -0.019\n",
       "lntollten           0.0395      0.004      9.386      0.000       0.031       0.048\n",
       "spoused             0.0031      0.002      1.878      0.061      -0.000       0.006\n",
       "wiremon            -0.0066      0.001     -7.715      0.000      -0.008      -0.005\n",
       "==============================================================================\n",
       "Omnibus:                      193.930   Durbin-Watson:                   1.946\n",
       "Prob(Omnibus):                  0.000   Jarque-Bera (JB):              315.858\n",
       "Skew:                          -0.451   Prob(JB):                     2.58e-69\n",
       "Kurtosis:                       4.162   Cond. No.                     1.67e+03\n",
       "==============================================================================\n",
       "\n",
       "Notes:\n",
       "[1] R² is computed without centering (uncentered) since the model does not contain a constant.\n",
       "[2] Standard Errors assume that the covariance matrix of the errors is correctly specified.\n",
       "[3] The condition number is large, 1.67e+03. This might indicate that there are\n",
       "strong multicollinearity or other numerical problems.\n",
       "\"\"\""
      ]
     },
     "execution_count": 64,
     "metadata": {},
     "output_type": "execute_result"
    }
   ],
   "source": [
    "lm=smf.ols(formula=my_formula, data=train).fit()\n",
    "lm.summary()"
   ]
  },
  {
   "cell_type": "markdown",
   "metadata": {},
   "source": [
    "# Getting rid of variable with high p value in t-test and then rebuilding the model\n",
    "#Variable with high p value is \"spoused\" and the same needs to be removed"
   ]
  },
  {
   "cell_type": "code",
   "execution_count": 65,
   "metadata": {},
   "outputs": [
    {
     "name": "stdout",
     "output_type": "stream",
     "text": [
      "age+birthmonth_June+card2items+card2spent+card2type+cardspent+creddebt+debtinc+ed+hometype+income+internet+lntollten+wiremon\n",
      "lntotal_spent~age+birthmonth_June+card2items+card2spent+card2type+cardspent+creddebt+debtinc+ed+hometype+income+internet+lntollten+wiremon-1\n"
     ]
    }
   ],
   "source": [
    "all_columns = \"+\".join(train.columns.difference( ['lntotal_spent','inccat','lninc','carvalue','spoused'] ))\n",
    "\n",
    "print (all_columns)\n",
    "\n",
    "my_formula = \"lntotal_spent~\" + all_columns + \"-1\"\n",
    "\n",
    "print (my_formula)"
   ]
  },
  {
   "cell_type": "markdown",
   "metadata": {},
   "source": [
    "# FINAL MODEL"
   ]
  },
  {
   "cell_type": "code",
   "execution_count": 66,
   "metadata": {},
   "outputs": [
    {
     "data": {
      "text/html": [
       "<table class=\"simpletable\">\n",
       "<caption>OLS Regression Results</caption>\n",
       "<tr>\n",
       "  <th>Dep. Variable:</th>      <td>lntotal_spent</td>  <th>  R-squared (uncentered):</th>      <td>   0.984</td> \n",
       "</tr>\n",
       "<tr>\n",
       "  <th>Model:</th>                   <td>OLS</td>       <th>  Adj. R-squared (uncentered):</th> <td>   0.984</td> \n",
       "</tr>\n",
       "<tr>\n",
       "  <th>Method:</th>             <td>Least Squares</td>  <th>  F-statistic:       </th>          <td>1.573e+04</td>\n",
       "</tr>\n",
       "<tr>\n",
       "  <th>Date:</th>             <td>Sat, 28 Sep 2024</td> <th>  Prob (F-statistic):</th>           <td>  0.00</td>  \n",
       "</tr>\n",
       "<tr>\n",
       "  <th>Time:</th>                 <td>18:18:39</td>     <th>  Log-Likelihood:    </th>          <td> -3971.0</td> \n",
       "</tr>\n",
       "<tr>\n",
       "  <th>No. Observations:</th>      <td>  3500</td>      <th>  AIC:               </th>          <td>   7970.</td> \n",
       "</tr>\n",
       "<tr>\n",
       "  <th>Df Residuals:</th>          <td>  3486</td>      <th>  BIC:               </th>          <td>   8056.</td> \n",
       "</tr>\n",
       "<tr>\n",
       "  <th>Df Model:</th>              <td>    14</td>      <th>                     </th>              <td> </td>    \n",
       "</tr>\n",
       "<tr>\n",
       "  <th>Covariance Type:</th>      <td>nonrobust</td>    <th>                     </th>              <td> </td>    \n",
       "</tr>\n",
       "</table>\n",
       "<table class=\"simpletable\">\n",
       "<tr>\n",
       "         <td></td>            <th>coef</th>     <th>std err</th>      <th>t</th>      <th>P>|t|</th>  <th>[0.025</th>    <th>0.975]</th>  \n",
       "</tr>\n",
       "<tr>\n",
       "  <th>age</th>             <td>    0.0139</td> <td>    0.001</td> <td>   20.261</td> <td> 0.000</td> <td>    0.013</td> <td>    0.015</td>\n",
       "</tr>\n",
       "<tr>\n",
       "  <th>birthmonth_June</th> <td>    0.0931</td> <td>    0.046</td> <td>    2.032</td> <td> 0.042</td> <td>    0.003</td> <td>    0.183</td>\n",
       "</tr>\n",
       "<tr>\n",
       "  <th>card2items</th>      <td>    0.2045</td> <td>    0.007</td> <td>   29.229</td> <td> 0.000</td> <td>    0.191</td> <td>    0.218</td>\n",
       "</tr>\n",
       "<tr>\n",
       "  <th>card2spent</th>      <td>   -0.0009</td> <td>    0.000</td> <td>   -5.730</td> <td> 0.000</td> <td>   -0.001</td> <td>   -0.001</td>\n",
       "</tr>\n",
       "<tr>\n",
       "  <th>card2type</th>       <td>    0.1989</td> <td>    0.011</td> <td>   18.401</td> <td> 0.000</td> <td>    0.178</td> <td>    0.220</td>\n",
       "</tr>\n",
       "<tr>\n",
       "  <th>cardspent</th>       <td>    0.0024</td> <td> 6.83e-05</td> <td>   35.189</td> <td> 0.000</td> <td>    0.002</td> <td>    0.003</td>\n",
       "</tr>\n",
       "<tr>\n",
       "  <th>creddebt</th>        <td>   -0.0705</td> <td>    0.008</td> <td>   -8.381</td> <td> 0.000</td> <td>   -0.087</td> <td>   -0.054</td>\n",
       "</tr>\n",
       "<tr>\n",
       "  <th>debtinc</th>         <td>    0.0336</td> <td>    0.002</td> <td>   13.721</td> <td> 0.000</td> <td>    0.029</td> <td>    0.038</td>\n",
       "</tr>\n",
       "<tr>\n",
       "  <th>ed</th>              <td>    0.1627</td> <td>    0.003</td> <td>   47.544</td> <td> 0.000</td> <td>    0.156</td> <td>    0.169</td>\n",
       "</tr>\n",
       "<tr>\n",
       "  <th>hometype</th>        <td>    0.2060</td> <td>    0.014</td> <td>   15.226</td> <td> 0.000</td> <td>    0.180</td> <td>    0.233</td>\n",
       "</tr>\n",
       "<tr>\n",
       "  <th>income</th>          <td>    0.0026</td> <td>    0.000</td> <td>    6.207</td> <td> 0.000</td> <td>    0.002</td> <td>    0.003</td>\n",
       "</tr>\n",
       "<tr>\n",
       "  <th>internet</th>        <td>   -0.0406</td> <td>    0.011</td> <td>   -3.809</td> <td> 0.000</td> <td>   -0.062</td> <td>   -0.020</td>\n",
       "</tr>\n",
       "<tr>\n",
       "  <th>lntollten</th>       <td>    0.0400</td> <td>    0.004</td> <td>    9.517</td> <td> 0.000</td> <td>    0.032</td> <td>    0.048</td>\n",
       "</tr>\n",
       "<tr>\n",
       "  <th>wiremon</th>         <td>   -0.0065</td> <td>    0.001</td> <td>   -7.708</td> <td> 0.000</td> <td>   -0.008</td> <td>   -0.005</td>\n",
       "</tr>\n",
       "</table>\n",
       "<table class=\"simpletable\">\n",
       "<tr>\n",
       "  <th>Omnibus:</th>       <td>191.402</td> <th>  Durbin-Watson:     </th> <td>   1.944</td>\n",
       "</tr>\n",
       "<tr>\n",
       "  <th>Prob(Omnibus):</th> <td> 0.000</td>  <th>  Jarque-Bera (JB):  </th> <td> 310.280</td>\n",
       "</tr>\n",
       "<tr>\n",
       "  <th>Skew:</th>          <td>-0.448</td>  <th>  Prob(JB):          </th> <td>4.20e-68</td>\n",
       "</tr>\n",
       "<tr>\n",
       "  <th>Kurtosis:</th>      <td> 4.151</td>  <th>  Cond. No.          </th> <td>1.67e+03</td>\n",
       "</tr>\n",
       "</table><br/><br/>Notes:<br/>[1] R² is computed without centering (uncentered) since the model does not contain a constant.<br/>[2] Standard Errors assume that the covariance matrix of the errors is correctly specified.<br/>[3] The condition number is large, 1.67e+03. This might indicate that there are<br/>strong multicollinearity or other numerical problems."
      ],
      "text/latex": [
       "\\begin{center}\n",
       "\\begin{tabular}{lclc}\n",
       "\\toprule\n",
       "\\textbf{Dep. Variable:}    &  lntotal\\_spent  & \\textbf{  R-squared (uncentered):}      &     0.984   \\\\\n",
       "\\textbf{Model:}            &       OLS        & \\textbf{  Adj. R-squared (uncentered):} &     0.984   \\\\\n",
       "\\textbf{Method:}           &  Least Squares   & \\textbf{  F-statistic:       }          & 1.573e+04   \\\\\n",
       "\\textbf{Date:}             & Sat, 28 Sep 2024 & \\textbf{  Prob (F-statistic):}          &     0.00    \\\\\n",
       "\\textbf{Time:}             &     18:18:39     & \\textbf{  Log-Likelihood:    }          &   -3971.0   \\\\\n",
       "\\textbf{No. Observations:} &        3500      & \\textbf{  AIC:               }          &     7970.   \\\\\n",
       "\\textbf{Df Residuals:}     &        3486      & \\textbf{  BIC:               }          &     8056.   \\\\\n",
       "\\textbf{Df Model:}         &          14      & \\textbf{                     }          &             \\\\\n",
       "\\textbf{Covariance Type:}  &    nonrobust     & \\textbf{                     }          &             \\\\\n",
       "\\bottomrule\n",
       "\\end{tabular}\n",
       "\\begin{tabular}{lcccccc}\n",
       "                          & \\textbf{coef} & \\textbf{std err} & \\textbf{t} & \\textbf{P$> |$t$|$} & \\textbf{[0.025} & \\textbf{0.975]}  \\\\\n",
       "\\midrule\n",
       "\\textbf{age}              &       0.0139  &        0.001     &    20.261  &         0.000        &        0.013    &        0.015     \\\\\n",
       "\\textbf{birthmonth\\_June} &       0.0931  &        0.046     &     2.032  &         0.042        &        0.003    &        0.183     \\\\\n",
       "\\textbf{card2items}       &       0.2045  &        0.007     &    29.229  &         0.000        &        0.191    &        0.218     \\\\\n",
       "\\textbf{card2spent}       &      -0.0009  &        0.000     &    -5.730  &         0.000        &       -0.001    &       -0.001     \\\\\n",
       "\\textbf{card2type}        &       0.1989  &        0.011     &    18.401  &         0.000        &        0.178    &        0.220     \\\\\n",
       "\\textbf{cardspent}        &       0.0024  &     6.83e-05     &    35.189  &         0.000        &        0.002    &        0.003     \\\\\n",
       "\\textbf{creddebt}         &      -0.0705  &        0.008     &    -8.381  &         0.000        &       -0.087    &       -0.054     \\\\\n",
       "\\textbf{debtinc}          &       0.0336  &        0.002     &    13.721  &         0.000        &        0.029    &        0.038     \\\\\n",
       "\\textbf{ed}               &       0.1627  &        0.003     &    47.544  &         0.000        &        0.156    &        0.169     \\\\\n",
       "\\textbf{hometype}         &       0.2060  &        0.014     &    15.226  &         0.000        &        0.180    &        0.233     \\\\\n",
       "\\textbf{income}           &       0.0026  &        0.000     &     6.207  &         0.000        &        0.002    &        0.003     \\\\\n",
       "\\textbf{internet}         &      -0.0406  &        0.011     &    -3.809  &         0.000        &       -0.062    &       -0.020     \\\\\n",
       "\\textbf{lntollten}        &       0.0400  &        0.004     &     9.517  &         0.000        &        0.032    &        0.048     \\\\\n",
       "\\textbf{wiremon}          &      -0.0065  &        0.001     &    -7.708  &         0.000        &       -0.008    &       -0.005     \\\\\n",
       "\\bottomrule\n",
       "\\end{tabular}\n",
       "\\begin{tabular}{lclc}\n",
       "\\textbf{Omnibus:}       & 191.402 & \\textbf{  Durbin-Watson:     } &    1.944  \\\\\n",
       "\\textbf{Prob(Omnibus):} &   0.000 & \\textbf{  Jarque-Bera (JB):  } &  310.280  \\\\\n",
       "\\textbf{Skew:}          &  -0.448 & \\textbf{  Prob(JB):          } & 4.20e-68  \\\\\n",
       "\\textbf{Kurtosis:}      &   4.151 & \\textbf{  Cond. No.          } & 1.67e+03  \\\\\n",
       "\\bottomrule\n",
       "\\end{tabular}\n",
       "%\\caption{OLS Regression Results}\n",
       "\\end{center}\n",
       "\n",
       "Notes: \\newline\n",
       " [1] R² is computed without centering (uncentered) since the model does not contain a constant. \\newline\n",
       " [2] Standard Errors assume that the covariance matrix of the errors is correctly specified. \\newline\n",
       " [3] The condition number is large, 1.67e+03. This might indicate that there are \\newline\n",
       " strong multicollinearity or other numerical problems."
      ],
      "text/plain": [
       "<class 'statsmodels.iolib.summary.Summary'>\n",
       "\"\"\"\n",
       "                                 OLS Regression Results                                \n",
       "=======================================================================================\n",
       "Dep. Variable:          lntotal_spent   R-squared (uncentered):                   0.984\n",
       "Model:                            OLS   Adj. R-squared (uncentered):              0.984\n",
       "Method:                 Least Squares   F-statistic:                          1.573e+04\n",
       "Date:                Sat, 28 Sep 2024   Prob (F-statistic):                        0.00\n",
       "Time:                        18:18:39   Log-Likelihood:                         -3971.0\n",
       "No. Observations:                3500   AIC:                                      7970.\n",
       "Df Residuals:                    3486   BIC:                                      8056.\n",
       "Df Model:                          14                                                  \n",
       "Covariance Type:            nonrobust                                                  \n",
       "===================================================================================\n",
       "                      coef    std err          t      P>|t|      [0.025      0.975]\n",
       "-----------------------------------------------------------------------------------\n",
       "age                 0.0139      0.001     20.261      0.000       0.013       0.015\n",
       "birthmonth_June     0.0931      0.046      2.032      0.042       0.003       0.183\n",
       "card2items          0.2045      0.007     29.229      0.000       0.191       0.218\n",
       "card2spent         -0.0009      0.000     -5.730      0.000      -0.001      -0.001\n",
       "card2type           0.1989      0.011     18.401      0.000       0.178       0.220\n",
       "cardspent           0.0024   6.83e-05     35.189      0.000       0.002       0.003\n",
       "creddebt           -0.0705      0.008     -8.381      0.000      -0.087      -0.054\n",
       "debtinc             0.0336      0.002     13.721      0.000       0.029       0.038\n",
       "ed                  0.1627      0.003     47.544      0.000       0.156       0.169\n",
       "hometype            0.2060      0.014     15.226      0.000       0.180       0.233\n",
       "income              0.0026      0.000      6.207      0.000       0.002       0.003\n",
       "internet           -0.0406      0.011     -3.809      0.000      -0.062      -0.020\n",
       "lntollten           0.0400      0.004      9.517      0.000       0.032       0.048\n",
       "wiremon            -0.0065      0.001     -7.708      0.000      -0.008      -0.005\n",
       "==============================================================================\n",
       "Omnibus:                      191.402   Durbin-Watson:                   1.944\n",
       "Prob(Omnibus):                  0.000   Jarque-Bera (JB):              310.280\n",
       "Skew:                          -0.448   Prob(JB):                     4.20e-68\n",
       "Kurtosis:                       4.151   Cond. No.                     1.67e+03\n",
       "==============================================================================\n",
       "\n",
       "Notes:\n",
       "[1] R² is computed without centering (uncentered) since the model does not contain a constant.\n",
       "[2] Standard Errors assume that the covariance matrix of the errors is correctly specified.\n",
       "[3] The condition number is large, 1.67e+03. This might indicate that there are\n",
       "strong multicollinearity or other numerical problems.\n",
       "\"\"\""
      ]
     },
     "execution_count": 66,
     "metadata": {},
     "output_type": "execute_result"
    }
   ],
   "source": [
    "lm=smf.ols(formula=my_formula, data=train).fit()\n",
    "lm.summary()"
   ]
  },
  {
   "cell_type": "code",
   "execution_count": 67,
   "metadata": {},
   "outputs": [],
   "source": [
    "## Building the model with train set and make predictions on test set\n",
    "from sklearn import metrics"
   ]
  },
  {
   "cell_type": "markdown",
   "metadata": {},
   "source": [
    "# RMSE of training data"
   ]
  },
  {
   "cell_type": "code",
   "execution_count": 68,
   "metadata": {},
   "outputs": [],
   "source": [
    "train_X = train[train.columns.difference(['lntotal_spent'])]\n",
    "train_y = train[['lntotal_spent']]"
   ]
  },
  {
   "cell_type": "code",
   "execution_count": 69,
   "metadata": {
    "scrolled": true
   },
   "outputs": [
    {
     "name": "stdout",
     "output_type": "stream",
     "text": [
      "0.7524825675340554\n",
      "-0.21043213960933826\n"
     ]
    }
   ],
   "source": [
    "y_pred_t = lm.predict(train_X)\n",
    "rmse_t = np.sqrt( metrics.mean_squared_error(train_y, y_pred_t) )\n",
    "print(rmse_t)\n",
    "print (metrics.r2_score(train_y,y_pred_t ))"
   ]
  },
  {
   "cell_type": "code",
   "execution_count": 70,
   "metadata": {},
   "outputs": [],
   "source": [
    "test_X = test[train.columns.difference(['lntotal_spent'])]\n",
    "test_y = test[['lntotal_spent']]"
   ]
  },
  {
   "cell_type": "code",
   "execution_count": 71,
   "metadata": {},
   "outputs": [],
   "source": [
    "# RMSE of testing data"
   ]
  },
  {
   "cell_type": "code",
   "execution_count": 72,
   "metadata": {},
   "outputs": [
    {
     "name": "stdout",
     "output_type": "stream",
     "text": [
      "0.7258070218920095\n",
      "-0.2852609509305748\n"
     ]
    }
   ],
   "source": [
    "y_pred_t = lm.predict(test_X)\n",
    "rmse_t = np.sqrt( metrics.mean_squared_error(test_y, y_pred_t) )\n",
    "print(rmse_t)\n",
    "print (metrics.r2_score(test_y,y_pred_t ))"
   ]
  },
  {
   "cell_type": "code",
   "execution_count": 67,
   "metadata": {},
   "outputs": [],
   "source": [
    "#RMSE of train data is higher than that of test data but this is not very high (difference is not much )"
   ]
  }
 ],
 "metadata": {
  "kernelspec": {
   "display_name": "Python 3 (ipykernel)",
   "language": "python",
   "name": "python3"
  },
  "language_info": {
   "codemirror_mode": {
    "name": "ipython",
    "version": 3
   },
   "file_extension": ".py",
   "mimetype": "text/x-python",
   "name": "python",
   "nbconvert_exporter": "python",
   "pygments_lexer": "ipython3",
   "version": "3.11.4"
  }
 },
 "nbformat": 4,
 "nbformat_minor": 2
}
